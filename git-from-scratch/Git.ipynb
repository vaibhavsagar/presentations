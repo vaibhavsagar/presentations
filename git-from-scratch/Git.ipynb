{
 "cells": [
  {
   "cell_type": "code",
   "execution_count": null,
   "metadata": {},
   "outputs": [],
   "source": [
    "{-# LANGUAGE OverloadedStrings #-}\n",
    "\n",
    ":!if [ -d solarized/ ]; then rm -rf solarized; fi\n",
    ":!git clone https://github.com/altercation/solarized\n",
    ":!cd solarized\n",
    ":!git show --format=raw -s"
   ]
  },
  {
   "cell_type": "code",
   "execution_count": null,
   "metadata": {},
   "outputs": [],
   "source": [
    ":!tree --charset=ascii .git/objects\n",
    ":!mv .git/objects/pack/* .\n",
    ":!cat *.pack | git unpack-objects\n",
    ":!rm -rf pack-*"
   ]
  },
  {
   "cell_type": "code",
   "execution_count": null,
   "metadata": {},
   "outputs": [],
   "source": [
    ":!git cat-file -p HEAD"
   ]
  },
  {
   "cell_type": "code",
   "execution_count": null,
   "metadata": {},
   "outputs": [],
   "source": [
    ":!cat .git/HEAD"
   ]
  },
  {
   "cell_type": "code",
   "execution_count": null,
   "metadata": {},
   "outputs": [],
   "source": [
    ":!cat .git/refs/heads/master"
   ]
  },
  {
   "cell_type": "code",
   "execution_count": null,
   "metadata": {},
   "outputs": [],
   "source": [
    ":!git cat-file -p 62f656a02f93c5190a8753159e34b385588d5ff3"
   ]
  },
  {
   "cell_type": "code",
   "execution_count": null,
   "metadata": {},
   "outputs": [],
   "source": [
    ":!ls .git/objects/62/f656a02f93c5190a8753159e34b385588d5ff3\n",
    ":!cat .git/objects/62/f656a02f93c5190a8753159e34b385588d5ff3"
   ]
  },
  {
   "cell_type": "code",
   "execution_count": null,
   "metadata": {},
   "outputs": [],
   "source": [
    ":!zlib-flate -uncompress < .git/objects/62/f656a02f93c5190a8753159e34b385588d5ff3"
   ]
  },
  {
   "cell_type": "code",
   "execution_count": null,
   "metadata": {},
   "outputs": [],
   "source": [
    "import qualified Codec.Compression.Zlib as Z (compress, decompress)\n",
    "import           Data.ByteString.Lazy        (fromStrict, toStrict)\n",
    "import           Data.ByteString             (ByteString)\n",
    "import qualified Data.ByteString        as B\n",
    "\n",
    "compress, decompress :: ByteString -> ByteString\n",
    "compress   = toStrict . Z.compress   . fromStrict\n",
    "decompress = toStrict . Z.decompress . fromStrict"
   ]
  },
  {
   "cell_type": "code",
   "execution_count": null,
   "metadata": {},
   "outputs": [],
   "source": [
    "commit <- B.readFile \".git/objects/62/f656a02f93c5190a8753159e34b385588d5ff3\"\n",
    "decompress commit"
   ]
  },
  {
   "cell_type": "code",
   "execution_count": null,
   "metadata": {},
   "outputs": [],
   "source": [
    "import           Data.Attoparsec.ByteString (Parser)\n",
    "import qualified Data.Attoparsec.ByteString.Char8 as AC\n",
    "\n",
    "parsed :: Parser a -> ByteString -> a\n",
    "parsed parser = either error id . AC.parseOnly parser"
   ]
  },
  {
   "cell_type": "code",
   "execution_count": null,
   "metadata": {},
   "outputs": [],
   "source": [
    "parseHeader :: Parser (ByteString, Int)\n",
    "parseHeader = do\n",
    "    objectType <- AC.takeTill AC.isSpace\n",
    "    AC.space\n",
    "    len <- AC.decimal\n",
    "    AC.char '\\NUL'\n",
    "    return (objectType, len)\n",
    "\n",
    "commit <- decompress <$> B.readFile \".git/objects/62/f656a02f93c5190a8753159e34b385588d5ff3\"\n",
    "\n",
    "parsed parseHeader commit"
   ]
  },
  {
   "cell_type": "code",
   "execution_count": null,
   "metadata": {},
   "outputs": [],
   "source": [
    "type Ref = ByteString\n",
    "\n",
    "parseHexRef :: Parser Ref\n",
    "parseHexRef = AC.take 40"
   ]
  },
  {
   "cell_type": "code",
   "execution_count": null,
   "metadata": {},
   "outputs": [],
   "source": [
    "data Commit = Commit\n",
    "    { commitTree      :: Ref\n",
    "    , commitParents   :: [Ref]\n",
    "    , commitAuthor    :: ByteString\n",
    "    , commitCommitter :: ByteString\n",
    "    , commitMessage   :: ByteString\n",
    "    } deriving (Eq, Show)\n",
    "\n",
    "parseCommit = do\n",
    "    cTree      <-           AC.string \"tree\"      *> AC.space *> parseHexRef                   <* AC.endOfLine\n",
    "    cParents   <- AC.many' (AC.string \"parent\"    *> AC.space *> parseHexRef                   <* AC.endOfLine)\n",
    "    cAuthor    <-           AC.string \"author\"    *> AC.space *> AC.takeTill (AC.inClass \"\\n\") <* AC.endOfLine\n",
    "    cCommitter <-           AC.string \"committer\" *> AC.space *> AC.takeTill (AC.inClass \"\\n\") <* AC.endOfLine\n",
    "    AC.endOfLine\n",
    "    cMessage   <- AC.takeByteString\n",
    "    return $ Commit cTree cParents cAuthor cCommitter cMessage\n",
    "\n",
    "parsed (parseHeader *> parseCommit) commit"
   ]
  },
  {
   "cell_type": "code",
   "execution_count": null,
   "metadata": {},
   "outputs": [],
   "source": [
    "import Data.Monoid ((<>), mappend, mconcat)\n",
    "import Data.Byteable\n",
    "\n",
    "instance Byteable Commit where\n",
    "    toBytes (Commit cTree cParents cAuthor cCommitter cMessage) = mconcat\n",
    "        [                       \"tree \"      <> cTree      <> \"\\n\"\n",
    "        , mconcat (map (\\ref -> \"parent \"    <> ref        <> \"\\n\") cParents)\n",
    "        ,                       \"author \"    <> cAuthor    <> \"\\n\"\n",
    "        ,                       \"committer \" <> cCommitter <> \"\\n\"\n",
    "        ,                                                     \"\\n\"\n",
    "        ,                                       cMessage\n",
    "        ]\n",
    "\n",
    "parsedCommit = parsed (parseHeader *> parseCommit) commit\n",
    "(parsed parseCommit . toBytes $ parsedCommit) == parsedCommit"
   ]
  },
  {
   "cell_type": "code",
   "execution_count": null,
   "metadata": {},
   "outputs": [],
   "source": [
    "import Data.ByteString.UTF8 (fromString, toString)\n",
    "\n",
    "withHeader :: ByteString -> ByteString -> ByteString\n",
    "withHeader oType content = mconcat [oType, \" \", fromString . show $ B.length content, \"\\NUL\", content]\n",
    "\n",
    "withHeader \"commit\" (toBytes parsedCommit)"
   ]
  },
  {
   "cell_type": "code",
   "execution_count": null,
   "metadata": {},
   "outputs": [],
   "source": [
    "import Data.Digest.Pure.SHA\n",
    "\n",
    "hash :: ByteString -> Ref\n",
    "hash = fromString . showDigest . sha1 . fromStrict\n",
    "\n",
    "hash (withHeader \"commit\" (toBytes parsedCommit))"
   ]
  },
  {
   "cell_type": "code",
   "execution_count": null,
   "metadata": {},
   "outputs": [],
   "source": [
    ":!git cat-file -p b15074a4ff4789237a8aa67ef487b77449ca2050"
   ]
  },
  {
   "cell_type": "code",
   "execution_count": null,
   "metadata": {},
   "outputs": [],
   "source": [
    "decompress <$> B.readFile \".git/objects/b1/5074a4ff4789237a8aa67ef487b77449ca2050\""
   ]
  },
  {
   "cell_type": "code",
   "execution_count": null,
   "metadata": {},
   "outputs": [],
   "source": [
    "import Data.ByteString.Base16 (encode)\n",
    "\n",
    "parseBinRef :: Parser Ref\n",
    "parseBinRef = encode <$> AC.take 20\n",
    "\n",
    "data Tree = Tree { treeEntries :: [TreeEntry] } deriving (Eq, Show)\n",
    "\n",
    "data TreeEntry = TreeEntry\n",
    "    { treeEntryPerms :: ByteString\n",
    "    , treeEntryName  :: ByteString\n",
    "    , treeEntryRef   :: Ref\n",
    "    } deriving (Eq, Show)\n",
    "\n",
    "parseTreeEntry :: Parser TreeEntry\n",
    "parseTreeEntry = do\n",
    "    perms <- fromString <$> AC.many1' AC.digit\n",
    "    AC.space\n",
    "    name  <- AC.takeWhile (/='\\NUL')\n",
    "    AC.char '\\NUL'\n",
    "    ref   <- parseBinRef\n",
    "    return $ TreeEntry perms name ref\n",
    "\n",
    "parseTree :: Parser Tree\n",
    "parseTree = Tree <$> AC.many' parseTreeEntry\n",
    "\n",
    "tree <- decompress <$> B.readFile \".git/objects/b1/5074a4ff4789237a8aa67ef487b77449ca2050\"\n",
    "\n",
    "parsedTree = parsed (parseHeader *> parseTree) tree\n",
    "parsedTree"
   ]
  },
  {
   "cell_type": "code",
   "execution_count": null,
   "metadata": {},
   "outputs": [],
   "source": [
    "import Data.ByteString.Base16 (decode)\n",
    "\n",
    "instance Byteable TreeEntry where\n",
    "    toBytes (TreeEntry perms name ref) = mconcat [perms, \" \", name, \"\\NUL\", fst $ decode ref]\n",
    "\n",
    "instance Byteable Tree where\n",
    "    toBytes (Tree entries) = mconcat (map toBytes entries)\n",
    "\n",
    "(parsed parseTree . toBytes $ parsedTree) == parsedTree"
   ]
  },
  {
   "cell_type": "code",
   "execution_count": null,
   "metadata": {},
   "outputs": [],
   "source": [
    ":!git cat-file -p ec00a76061539cf774614788270214499696f871"
   ]
  },
  {
   "cell_type": "code",
   "execution_count": null,
   "metadata": {},
   "outputs": [],
   "source": [
    "blob <- decompress <$> B.readFile \".git/objects/ec/00a76061539cf774614788270214499696f871\"\n",
    "blob"
   ]
  },
  {
   "cell_type": "code",
   "execution_count": null,
   "metadata": {},
   "outputs": [],
   "source": [
    "data Blob = Blob { blobContent :: ByteString } deriving (Eq, Show)\n",
    "\n",
    "parseBlob :: Parser Blob\n",
    "parseBlob = Blob <$> AC.takeByteString\n",
    "\n",
    "parsedBlob = parsed (parseHeader *> parseBlob) blob\n",
    "parsedBlob"
   ]
  },
  {
   "cell_type": "code",
   "execution_count": null,
   "metadata": {},
   "outputs": [],
   "source": [
    "instance Byteable Blob where\n",
    "    toBytes (Blob content) = content\n",
    "\n",
    "(parsed parseBlob . toBytes $ parsedBlob) == parsedBlob"
   ]
  },
  {
   "cell_type": "code",
   "execution_count": null,
   "metadata": {},
   "outputs": [],
   "source": [
    ":!git show-ref --tags"
   ]
  },
  {
   "cell_type": "code",
   "execution_count": null,
   "metadata": {},
   "outputs": [],
   "source": [
    ":!git cat-file -p 31ff7f5064824d2231648119feb6dfda1a3c89f5"
   ]
  },
  {
   "cell_type": "code",
   "execution_count": null,
   "metadata": {},
   "outputs": [],
   "source": [
    "tag <- decompress <$> B.readFile \".git/objects/31/ff7f5064824d2231648119feb6dfda1a3c89f5\"\n",
    "tag"
   ]
  },
  {
   "cell_type": "code",
   "execution_count": null,
   "metadata": {},
   "outputs": [],
   "source": [
    "data Tag = Tag\n",
    "    { tagObject     :: Ref\n",
    "    , tagType       :: ByteString\n",
    "    , tagTag        :: ByteString\n",
    "    , tagTagger     :: ByteString\n",
    "    , tagAnnotation :: ByteString\n",
    "    } deriving (Eq, Show)\n",
    "\n",
    "parseTag :: Parser Tag\n",
    "parseTag = do\n",
    "    tObject     <- AC.string \"object\" *> AC.space *> parseHexRef                                                 <* AC.endOfLine\n",
    "    tType       <- AC.string \"type\"   *> AC.space *> AC.choice (map AC.string [\"commit\", \"tree\", \"blob\", \"tag\"]) <* AC.endOfLine\n",
    "    tTag        <- AC.string \"tag\"    *> AC.space *> AC.takeTill (AC.inClass \"\\n\")                               <* AC.endOfLine\n",
    "    tTagger     <- AC.string \"tagger\" *> AC.space *> AC.takeTill (AC.inClass \"\\n\")                               <* AC.endOfLine\n",
    "    AC.endOfLine\n",
    "    tAnnotation <- AC.takeByteString\n",
    "    return $ Tag tObject tType tTag tTagger tAnnotation\n",
    "\n",
    "parsedTag = parsed (parseHeader *> parseTag) tag\n",
    "parsedTag"
   ]
  },
  {
   "cell_type": "code",
   "execution_count": null,
   "metadata": {},
   "outputs": [],
   "source": [
    "instance Byteable Tag where\n",
    "    toBytes (Tag tObject tType tTag tTagger tAnnotation) = mconcat\n",
    "        [ \"object \" <> tObject     <> \"\\n\"\n",
    "        , \"type \"   <> tType       <> \"\\n\"\n",
    "        , \"tag \"    <> tTag        <> \"\\n\"\n",
    "        , \"tagger \" <> tTagger     <> \"\\n\"\n",
    "        ,                             \"\\n\"\n",
    "        ,              tAnnotation\n",
    "        ]\n",
    "\n",
    "(parsed parseTag . toBytes $ parsedTag) == parsedTag"
   ]
  },
  {
   "cell_type": "code",
   "execution_count": null,
   "metadata": {},
   "outputs": [],
   "source": [
    "data GitObject\n",
    "    = GitCommit Commit\n",
    "    | GitTree   Tree\n",
    "    | GitBlob   Blob\n",
    "    | GitTag    Tag\n",
    "    deriving (Eq, Show)\n",
    "\n",
    "parseGitObject :: Parser GitObject\n",
    "parseGitObject = do\n",
    "    headerLen <- parseHeader\n",
    "    case (fst headerLen) of\n",
    "        \"commit\" -> GitCommit <$> parseCommit\n",
    "        \"tree\"   -> GitTree   <$> parseTree\n",
    "        \"blob\"   -> GitBlob   <$> parseBlob\n",
    "        \"tag\"    -> GitTag    <$> parseTag\n",
    "        _        -> error \"not a git object\"\n",
    "\n",
    "instance Byteable GitObject where\n",
    "    toBytes obj = case obj of\n",
    "        GitCommit c -> withHeader \"commit\" (toBytes c)\n",
    "        GitTree   t -> withHeader \"tree\"   (toBytes t)\n",
    "        GitBlob   b -> withHeader \"blob\"   (toBytes b)\n",
    "        GitTag    t -> withHeader \"tag\"    (toBytes t)\n",
    "\n",
    "hashObject :: GitObject -> Ref\n",
    "hashObject = hash . toBytes"
   ]
  },
  {
   "cell_type": "code",
   "execution_count": null,
   "metadata": {},
   "outputs": [],
   "source": [
    "hashObject . parsed parseGitObject <$> (decompress <$> B.readFile \".git/objects/31/ff7f5064824d2231648119feb6dfda1a3c89f5\")"
   ]
  },
  {
   "cell_type": "code",
   "execution_count": null,
   "metadata": {},
   "outputs": [],
   "source": [
    "import System.FilePath ((</>))\n",
    "\n",
    "refPath :: FilePath -> Ref -> FilePath\n",
    "refPath gitDir ref = let\n",
    "   (dir,file) = splitAt 2 (toString ref)\n",
    "   in gitDir </> \"objects\" </> dir </> file\n",
    "\n",
    "refPath \".git\" \"31ff7f5064824d2231648119feb6dfda1a3c89f5\""
   ]
  },
  {
   "cell_type": "code",
   "execution_count": null,
   "metadata": {},
   "outputs": [],
   "source": [
    "readObject :: FilePath -> Ref -> IO GitObject\n",
    "readObject gitDir ref = do\n",
    "    let path = refPath gitDir ref\n",
    "    content <- decompress <$> B.readFile path\n",
    "    return $ parsed parseGitObject content\n",
    "\n",
    "readObject \".git\" \"31ff7f5064824d2231648119feb6dfda1a3c89f5\""
   ]
  },
  {
   "cell_type": "code",
   "execution_count": null,
   "metadata": {},
   "outputs": [],
   "source": [
    "import System.Directory (doesPathExist, createDirectoryIfMissing)\n",
    "import System.FilePath  (takeDirectory)\n",
    "import Control.Monad    (when, unless)\n",
    "\n",
    "writeObject :: FilePath -> GitObject -> IO Ref\n",
    "writeObject gitDir object = do\n",
    "    let ref  =  hashObject object\n",
    "    let path =  refPath gitDir ref\n",
    "    exists   <- doesPathExist path\n",
    "    unless exists $ do\n",
    "        let dir = takeDirectory path\n",
    "        createDirectoryIfMissing True dir\n",
    "        B.writeFile path . compress $ toBytes object\n",
    "    return ref"
   ]
  },
  {
   "cell_type": "code",
   "execution_count": null,
   "metadata": {},
   "outputs": [],
   "source": [
    "import Control.Monad    (forM)\n",
    "import System.Directory (listDirectory)\n",
    "\n",
    "allRefs <- do\n",
    "    prefixes <- filter (\\d -> length d == 2) <$> listDirectory \".git/objects/\"\n",
    "    concat <$> forM prefixes (\\p ->\n",
    "        map (fromString . (p++)) <$> listDirectory (\".git/objects\" </> p))\n",
    "\n",
    "print (length allRefs)\n",
    "\n",
    "test <- forM allRefs $ \\ref -> do\n",
    "    obj  <- readObject  \".git\" ref\n",
    "    ref' <- writeObject \".git\" obj\n",
    "    return $ ref == ref'\n",
    "\n",
    "and test"
   ]
  }
 ],
 "metadata": {
  "kernelspec": {
   "display_name": "Haskell",
   "language": "haskell",
   "name": "haskell"
  },
  "language_info": {
   "codemirror_mode": "ihaskell",
   "file_extension": ".hs",
   "name": "haskell",
   "pygments_lexer": "Haskell",
   "version": "8.4.3"
  }
 },
 "nbformat": 4,
 "nbformat_minor": 2
}
