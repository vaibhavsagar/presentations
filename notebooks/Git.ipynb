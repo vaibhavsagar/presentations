{
 "cells": [
  {
   "cell_type": "code",
   "execution_count": 1,
   "metadata": {},
   "outputs": [
    {
     "data": {
      "text/plain": []
     },
     "metadata": {},
     "output_type": "display_data"
    },
    {
     "data": {
      "text/plain": [
       "Cloning into 'solarized'..."
      ]
     },
     "metadata": {},
     "output_type": "display_data"
    },
    {
     "data": {
      "text/plain": [
       "commit e40cd4130e2a82f9b03ada1ca378b7701b1a9110\n",
       "tree ecd0e58d6832566540a30dfd4878db518d5451d0\n",
       "parent ab3c5646b41de1b6d95782371289db585ba8aa85\n",
       "author Trevor Bramble <inbox@trevorbramble.com> 1372482098 -0700\n",
       "committer Trevor Bramble <inbox@trevorbramble.com> 1372482214 -0700\n",
       "\n",
       "    add tmux by @seebi!"
      ]
     },
     "metadata": {},
     "output_type": "display_data"
    }
   ],
   "source": [
    "{-# LANGUAGE OverloadedStrings #-}\n",
    "\n",
    ":!if [ -d solarized/ ]; then rm -rf solarized; fi\n",
    ":!git clone https://github.com/altercation/solarized\n",
    ":!cd solarized\n",
    ":!git show --format=raw -s"
   ]
  },
  {
   "cell_type": "code",
   "execution_count": 2,
   "metadata": {},
   "outputs": [
    {
     "data": {
      "text/plain": []
     },
     "metadata": {},
     "output_type": "display_data"
    },
    {
     "data": {
      "text/plain": []
     },
     "metadata": {},
     "output_type": "display_data"
    },
    {
     "data": {
      "text/plain": []
     },
     "metadata": {},
     "output_type": "display_data"
    }
   ],
   "source": [
    ":!mv .git/objects/pack/* .\n",
    ":!cat *.pack | git unpack-objects\n",
    ":!rm -rf pack-*"
   ]
  },
  {
   "cell_type": "code",
   "execution_count": 3,
   "metadata": {},
   "outputs": [
    {
     "data": {
      "text/plain": [
       "tree ecd0e58d6832566540a30dfd4878db518d5451d0\n",
       "parent ab3c5646b41de1b6d95782371289db585ba8aa85\n",
       "author Trevor Bramble <inbox@trevorbramble.com> 1372482098 -0700\n",
       "committer Trevor Bramble <inbox@trevorbramble.com> 1372482214 -0700\n",
       "\n",
       "add tmux by @seebi!"
      ]
     },
     "metadata": {},
     "output_type": "display_data"
    }
   ],
   "source": [
    ":!git cat-file -p HEAD"
   ]
  },
  {
   "cell_type": "code",
   "execution_count": 4,
   "metadata": {},
   "outputs": [
    {
     "data": {
      "text/plain": [
       "ref: refs/heads/master"
      ]
     },
     "metadata": {},
     "output_type": "display_data"
    }
   ],
   "source": [
    ":!cat .git/HEAD"
   ]
  },
  {
   "cell_type": "code",
   "execution_count": 5,
   "metadata": {},
   "outputs": [
    {
     "data": {
      "text/plain": [
       "e40cd4130e2a82f9b03ada1ca378b7701b1a9110"
      ]
     },
     "metadata": {},
     "output_type": "display_data"
    }
   ],
   "source": [
    ":!cat .git/refs/heads/master"
   ]
  },
  {
   "cell_type": "code",
   "execution_count": 6,
   "metadata": {},
   "outputs": [
    {
     "data": {
      "text/plain": [
       "tree ecd0e58d6832566540a30dfd4878db518d5451d0\n",
       "parent ab3c5646b41de1b6d95782371289db585ba8aa85\n",
       "author Trevor Bramble <inbox@trevorbramble.com> 1372482098 -0700\n",
       "committer Trevor Bramble <inbox@trevorbramble.com> 1372482214 -0700\n",
       "\n",
       "add tmux by @seebi!"
      ]
     },
     "metadata": {},
     "output_type": "display_data"
    }
   ],
   "source": [
    ":!git cat-file -p e40cd4130e2a82f9b03ada1ca378b7701b1a9110"
   ]
  },
  {
   "cell_type": "code",
   "execution_count": 7,
   "metadata": {},
   "outputs": [
    {
     "data": {
      "text/plain": [
       ".git/objects/e4/0cd4130e2a82f9b03ada1ca378b7701b1a9110"
      ]
     },
     "metadata": {},
     "output_type": "display_data"
    },
    {
     "data": {
      "text/plain": [
       "x\u0001mj\u00031\f",
       "DûÛ§P\u000eÐâ/ÙZ(%ô\f",
       "¹´RéB\r",
       "®SÛ×^ ¿\u0006\u001e",
       "ÃY÷Ö¶\u00011ÓÓèf`«zCÒB)b)='¯\u001f©\n",
       "\u0006RÌ\u0018Ô»\u000b",
       "w;\u000f`I+\\$\u0007µ E\u0017¬\u0014S\r",
       "Ù'\u0014&fBÇ×ñ¹w8uûñÞ¹ÉÁëvývÓÊ\u0003¾¬{{ê<\u0015ýBðì«÷nÒùtØÿ\u001d",
       "1ä?cU\u0018íz\u0003¹ÃñÛL¶û\u0005È\u0005O"
      ]
     },
     "metadata": {},
     "output_type": "display_data"
    }
   ],
   "source": [
    ":!ls .git/objects/e4/0cd4130e2a82f9b03ada1ca378b7701b1a9110\n",
    ":!cat .git/objects/e4/0cd4130e2a82f9b03ada1ca378b7701b1a9110"
   ]
  },
  {
   "cell_type": "code",
   "execution_count": 8,
   "metadata": {},
   "outputs": [
    {
     "data": {
      "text/plain": [
       "commit 248\u0000tree ecd0e58d6832566540a30dfd4878db518d5451d0\n",
       "parent ab3c5646b41de1b6d95782371289db585ba8aa85\n",
       "author Trevor Bramble <inbox@trevorbramble.com> 1372482098 -0700\n",
       "committer Trevor Bramble <inbox@trevorbramble.com> 1372482214 -0700\n",
       "\n",
       "add tmux by @seebi!"
      ]
     },
     "metadata": {},
     "output_type": "display_data"
    }
   ],
   "source": [
    ":!zlib-flate -uncompress < .git/objects/e4/0cd4130e2a82f9b03ada1ca378b7701b1a9110"
   ]
  },
  {
   "cell_type": "code",
   "execution_count": 9,
   "metadata": {
    "collapsed": true
   },
   "outputs": [],
   "source": [
    "import qualified Codec.Compression.Zlib as Z (compress, decompress)\n",
    "import           Data.ByteString.Lazy        (fromStrict, toStrict)\n",
    "import           Data.ByteString             (ByteString)\n",
    "import qualified Data.ByteString        as B\n",
    "\n",
    "compress, decompress :: ByteString -> ByteString\n",
    "compress   = toStrict . Z.compress   . fromStrict\n",
    "decompress = toStrict . Z.decompress . fromStrict"
   ]
  },
  {
   "cell_type": "code",
   "execution_count": 10,
   "metadata": {},
   "outputs": [
    {
     "data": {
      "text/plain": [
       "\"commit 248\\NULtree ecd0e58d6832566540a30dfd4878db518d5451d0\\nparent ab3c5646b41de1b6d95782371289db585ba8aa85\\nauthor Trevor Bramble <inbox@trevorbramble.com> 1372482098 -0700\\ncommitter Trevor Bramble <inbox@trevorbramble.com> 1372482214 -0700\\n\\nadd tmux by @seebi!\\n\""
      ]
     },
     "metadata": {},
     "output_type": "display_data"
    }
   ],
   "source": [
    "commit <- B.readFile \".git/objects/e4/0cd4130e2a82f9b03ada1ca378b7701b1a9110\"\n",
    "decompress commit"
   ]
  },
  {
   "cell_type": "code",
   "execution_count": 11,
   "metadata": {
    "collapsed": true
   },
   "outputs": [],
   "source": [
    "import           Data.Attoparsec.ByteString (Parser)\n",
    "import qualified Data.Attoparsec.ByteString.Char8 as AC\n",
    "\n",
    "parsed :: Parser a -> ByteString -> a\n",
    "parsed parser = either error id . AC.parseOnly parser"
   ]
  },
  {
   "cell_type": "code",
   "execution_count": 12,
   "metadata": {},
   "outputs": [
    {
     "data": {
      "text/plain": [
       "(\"commit\",248)"
      ]
     },
     "metadata": {},
     "output_type": "display_data"
    }
   ],
   "source": [
    "parseHeader :: Parser (ByteString, Int)\n",
    "parseHeader = do\n",
    "    objectType <- AC.takeTill AC.isSpace\n",
    "    AC.space\n",
    "    len <- AC.decimal\n",
    "    AC.char '\\NUL'\n",
    "    return (objectType, len)\n",
    "\n",
    "commit <- decompress <$> B.readFile \".git/objects/e4/0cd4130e2a82f9b03ada1ca378b7701b1a9110\"\n",
    "\n",
    "parsed parseHeader commit"
   ]
  },
  {
   "cell_type": "code",
   "execution_count": 13,
   "metadata": {
    "collapsed": true
   },
   "outputs": [],
   "source": [
    "type Ref = ByteString\n",
    "\n",
    "parseHexRef :: Parser Ref\n",
    "parseHexRef = AC.take 40"
   ]
  },
  {
   "cell_type": "code",
   "execution_count": 14,
   "metadata": {},
   "outputs": [
    {
     "data": {
      "text/plain": [
       "Commit {commitTree = \"ecd0e58d6832566540a30dfd4878db518d5451d0\", commitParents = [\"ab3c5646b41de1b6d95782371289db585ba8aa85\"], commitAuthor = \"Trevor Bramble <inbox@trevorbramble.com> 1372482098 -0700\", commitCommitter = \"Trevor Bramble <inbox@trevorbramble.com> 1372482214 -0700\", commitMessage = \"add tmux by @seebi!\\n\"}"
      ]
     },
     "metadata": {},
     "output_type": "display_data"
    }
   ],
   "source": [
    "data Commit = Commit\n",
    "    { commitTree      :: Ref\n",
    "    , commitParents   :: [Ref]\n",
    "    , commitAuthor    :: ByteString\n",
    "    , commitCommitter :: ByteString\n",
    "    , commitMessage   :: ByteString\n",
    "    } deriving (Eq, Show)\n",
    "\n",
    "parseCommit = do\n",
    "    cTree      <-           AC.string \"tree\"      *> AC.space *> parseHexRef                   <* AC.endOfLine\n",
    "    cParents   <- AC.many' (AC.string \"parent\"    *> AC.space *> parseHexRef                   <* AC.endOfLine)\n",
    "    cAuthor    <-           AC.string \"author\"    *> AC.space *> AC.takeTill (AC.inClass \"\\n\") <* AC.endOfLine\n",
    "    cCommitter <-           AC.string \"committer\" *> AC.space *> AC.takeTill (AC.inClass \"\\n\") <* AC.endOfLine\n",
    "    AC.endOfLine\n",
    "    cMessage   <- AC.takeByteString\n",
    "    return $ Commit cTree cParents cAuthor cCommitter cMessage\n",
    "\n",
    "parsed (parseHeader *> parseCommit) commit"
   ]
  },
  {
   "cell_type": "code",
   "execution_count": 15,
   "metadata": {},
   "outputs": [
    {
     "data": {
      "text/plain": [
       "True"
      ]
     },
     "metadata": {},
     "output_type": "display_data"
    }
   ],
   "source": [
    "import Data.Monoid ((<>), mappend, mconcat)\n",
    "import Data.Byteable\n",
    "\n",
    "instance Byteable Commit where\n",
    "    toBytes (Commit cTree cParents cAuthor cCommitter cMessage) = mconcat\n",
    "        [                       \"tree \"      <> cTree      <> \"\\n\"\n",
    "        , mconcat (map (\\ref -> \"parent \"    <> ref        <> \"\\n\") cParents)\n",
    "        ,                       \"author \"    <> cAuthor    <> \"\\n\"\n",
    "        ,                       \"committer \" <> cCommitter <> \"\\n\"\n",
    "        ,                                                     \"\\n\"\n",
    "        ,                                       cMessage\n",
    "        ]\n",
    "\n",
    "parsedCommit = parsed (parseHeader *> parseCommit) commit\n",
    "(parsed parseCommit . toBytes $ parsedCommit) == parsedCommit"
   ]
  },
  {
   "cell_type": "code",
   "execution_count": 16,
   "metadata": {},
   "outputs": [
    {
     "data": {
      "text/plain": [
       "\"commit 248\\NULtree ecd0e58d6832566540a30dfd4878db518d5451d0\\nparent ab3c5646b41de1b6d95782371289db585ba8aa85\\nauthor Trevor Bramble <inbox@trevorbramble.com> 1372482098 -0700\\ncommitter Trevor Bramble <inbox@trevorbramble.com> 1372482214 -0700\\n\\nadd tmux by @seebi!\\n\""
      ]
     },
     "metadata": {},
     "output_type": "display_data"
    }
   ],
   "source": [
    "import Data.ByteString.UTF8 (fromString, toString)\n",
    "\n",
    "withHeader :: ByteString -> ByteString -> ByteString\n",
    "withHeader oType content = mconcat [oType, \" \", fromString . show $ B.length content, \"\\NUL\", content]\n",
    "\n",
    "withHeader \"commit\" (toBytes parsedCommit)"
   ]
  },
  {
   "cell_type": "code",
   "execution_count": 17,
   "metadata": {},
   "outputs": [
    {
     "data": {
      "text/plain": [
       "\"e40cd4130e2a82f9b03ada1ca378b7701b1a9110\""
      ]
     },
     "metadata": {},
     "output_type": "display_data"
    }
   ],
   "source": [
    "import Data.Digest.Pure.SHA\n",
    "\n",
    "hash :: ByteString -> Ref\n",
    "hash = fromString . showDigest . sha1 . fromStrict\n",
    "\n",
    "hash (withHeader \"commit\" (toBytes parsedCommit))"
   ]
  },
  {
   "cell_type": "code",
   "execution_count": 18,
   "metadata": {},
   "outputs": [
    {
     "data": {
      "text/plain": [
       "100644 blob e69de29bb2d1d6434b8b29ae775ad8c2e48c5391\t.gitmodules\n",
       "100644 blob ec00a76061539cf774614788270214499696f871\tCHANGELOG.mkd\n",
       "100644 blob f95aaf80007d225f00d3109987ee42ef2c2e0c0a\tDEVELOPERS.mkd\n",
       "100644 blob ee08d7e44f15108ef5359550399dad55955b56ca\tLICENSE\n",
       "100644 blob d18ee9450251ea1b9a02ebd4d6fce022df9eb5e4\tREADME.md\n",
       "040000 tree 1981c76881c6a14e14d067a44247acd1bf6bbc3a\tadobe-swatches-solarized\n",
       "040000 tree 825c732bdd3a62aeb543ca89026a26a2ee0fba26\tapple-colorpalette-solarized\n",
       "040000 tree 7bab2828df5de23262a821cc48fe0ccf8bd2a9ae\temacs-colors-solarized\n",
       "040000 tree f5fe8c3e20b2577223f617683a52eac31c5c9f30\tfiles\n",
       "040000 tree 5b60111510dbb3d8560cf58a36a20a99fc175658\tgedit\n",
       "040000 tree 60c9df3d6e1994b76d72c061a02639af3d925655\tgimp-palette-solarized\n",
       "040000 tree 979cf43752e4d698c7b5b47cff665142a274c133\timg\n",
       "040000 tree 3ff6d431303b66cc50e45b6fabd72302f210aebc\tintellij-colors-solarized\n",
       "040000 tree 8f387a531ad08f146c86e4b6007b898064ad4d7f\titerm2-colors-solarized\n",
       "040000 tree 1e37592e62c85909be4c5e5eb774f177766e8422\tmutt-colors-solarized\n",
       "040000 tree 8f321f917040d903f701a2b33aeee26aed2ee544\tnetbeans-colors-solarized\n",
       "040000 tree 0d408465820822f6a2afccf43e9627375fedc278\tosx-terminal.app-colors-solarized\n",
       "040000 tree 63dfa6c40d214f8e0f76d39f7a2283e053940a19\tputty-colors-solarized\n",
       "040000 tree 453921a267d3eb855e40c7de73aee46088563f3e\tqtcreator\n",
       "040000 tree 5dd6832a324187f8f521bef928891fb87cf845f6\tseestyle-colors-solarized\n",
       "040000 tree 3c15973ed107e7b37d1c4885f82984658ecbdf6a\ttextmate-colors-solarized\n",
       "040000 tree 4db152b36a47e31a872e778c02161f537888e44b\ttextwrangler-bbedit-colors-solarized\n",
       "040000 tree 09b5f2f69e1596c6ff66fb187ea6bdc385845152\ttmux\n",
       "040000 tree 635ebbb919fcbbaf6fe958998553bf3f5fe09210\tutils\n",
       "040000 tree b87a2100b0a79424cd4b2a4e4ef03274b130a206\tvim-colors-solarized\n",
       "040000 tree 8dea7190b79c05404aa6a1f0d67c5c6671d66fe1\tvisualstudio-colors-solarized\n",
       "040000 tree 0a531826e913a4b11823ee1be6e1b367f826006f\txchat\n",
       "040000 tree 2870bdf394a6b6b3bd10c263ffe9396a0d3d3366\txfce4-terminal\n",
       "040000 tree 5d1a212e2fd9cdc2b678e3be56cf776b2f16cfe2\txresources"
      ]
     },
     "metadata": {},
     "output_type": "display_data"
    }
   ],
   "source": [
    ":!git cat-file -p ecd0e58d6832566540a30dfd4878db518d5451d0"
   ]
  },
  {
   "cell_type": "code",
   "execution_count": 19,
   "metadata": {},
   "outputs": [
    {
     "data": {
      "text/plain": [
       "\"tree 1282\\NUL100644 .gitmodules\\NUL\\230\\157\\226\\155\\178\\209\\214CK\\139)\\174wZ\\216\\194\\228\\140S\\145\\&100644 CHANGELOG.mkd\\NUL\\236\\NUL\\167`aS\\156\\247taG\\136'\\STX\\DC4I\\150\\150\\248q100644 DEVELOPERS.mkd\\NUL\\249Z\\175\\128\\NUL}\\\"_\\NUL\\211\\DLE\\153\\135\\238B\\239,.\\f\\n100644 LICENSE\\NUL\\238\\b\\215\\228O\\NAK\\DLE\\142\\245\\&5\\149P9\\157\\173U\\149[V\\202\\&100644 README.md\\NUL\\209\\142\\233E\\STXQ\\234\\ESC\\154\\STX\\235\\212\\214\\252\\224\\\"\\223\\158\\181\\228\\&40000 adobe-swatches-solarized\\NUL\\EM\\129\\199h\\129\\198\\161N\\DC4\\208g\\164BG\\172\\209\\191k\\188:40000 apple-colorpalette-solarized\\NUL\\130\\\\s+\\221:b\\174\\181C\\202\\137\\STXj&\\162\\238\\SI\\186&40000 emacs-colors-solarized\\NUL{\\171((\\223]\\226\\&2b\\168!\\204H\\254\\f\\207\\139\\210\\169\\174\\&40000 files\\NUL\\245\\254\\140> \\178Wr#\\246\\ETBh:R\\234\\195\\FS\\\\\\159\\&040000 gedit\\NUL[`\\DC1\\NAK\\DLE\\219\\179\\216V\\f\\245\\138\\&6\\162\\n\\153\\252\\ETBVX40000 gimp-palette-solarized\\NUL`\\201\\223=n\\EM\\148\\183mr\\192a\\160&9\\175=\\146VU40000 img\\NUL\\151\\156\\244\\&7R\\228\\214\\152\\199\\181\\180|\\255fQB\\162t\\193\\&340000 intellij-colors-solarized\\NUL?\\246\\212\\&10;f\\204P\\228[o\\171\\215#\\STX\\242\\DLE\\174\\188\\&40000 iterm2-colors-solarized\\NUL\\143\\&8zS\\SUB\\208\\143\\DC4l\\134\\228\\182\\NUL{\\137\\128d\\173M\\DEL40000 mutt-colors-solarized\\NUL\\RS7Y.b\\200Y\\t\\190L^^\\183t\\241wvn\\132\\\"40000 netbeans-colors-solarized\\NUL\\143\\&2\\US\\145p@\\217\\ETX\\247\\SOH\\162\\179:\\238\\226j\\237.\\229D40000 osx-terminal.app-colors-solarized\\NUL\\r@\\132e\\130\\b\\\"\\246\\162\\175\\204\\244>\\150'7_\\237\\194x40000 putty-colors-solarized\\NULc\\223\\166\\196\\r!O\\142\\SIv\\211\\159z\\\"\\131\\224S\\148\\n\\EM40000 qtcreator\\NULE9!\\162g\\211\\235\\133^@\\199\\222s\\174\\228`\\136V?>40000 seestyle-colors-solarized\\NUL]\\214\\131*2A\\135\\248\\245!\\190\\249(\\137\\US\\184|\\248E\\246\\&40000 textmate-colors-solarized\\NUL<\\NAK\\151>\\209\\a\\231\\179}\\FSH\\133\\248)\\132e\\142\\203\\223j40000 textwrangler-bbedit-colors-solarized\\NULM\\177R\\179jG\\227\\SUB\\135.w\\140\\STX\\SYN\\USSx\\136\\228K40000 tmux\\NUL\\t\\181\\242\\246\\158\\NAK\\150\\198\\255f\\251\\CAN~\\166\\189\\195\\133\\132QR40000 utils\\NULc^\\187\\185\\EM\\252\\187\\175o\\233X\\153\\133S\\191?_\\224\\146\\DLE40000 vim-colors-solarized\\NUL\\184z!\\NUL\\176\\167\\148$\\205K*NN\\240\\&2t\\177\\&0\\162\\ACK40000 visualstudio-colors-solarized\\NUL\\141\\234q\\144\\183\\156\\ENQ@J\\166\\161\\240\\214|\\\\fq\\214o\\225\\&40000 xchat\\NUL\\nS\\CAN&\\233\\DC3\\164\\177\\CAN#\\238\\ESC\\230\\225\\179g\\248&\\NULo40000 xfce4-terminal\\NUL(p\\189\\243\\148\\166\\182\\179\\189\\DLE\\194c\\255\\233\\&9j\\r=3f40000 xresources\\NUL]\\SUB!./\\217\\205\\194\\182x\\227\\190V\\207wk/\\SYN\\207\\226\""
      ]
     },
     "metadata": {},
     "output_type": "display_data"
    }
   ],
   "source": [
    "decompress <$> B.readFile \".git/objects/ec/d0e58d6832566540a30dfd4878db518d5451d0\""
   ]
  },
  {
   "cell_type": "code",
   "execution_count": 20,
   "metadata": {},
   "outputs": [
    {
     "data": {
      "text/plain": [
       "Tree {treeEntries = [TreeEntry {treeEntryPerms = \"100644\", treeEntryName = \".gitmodules\", treeEntryRef = \"e69de29bb2d1d6434b8b29ae775ad8c2e48c5391\"},TreeEntry {treeEntryPerms = \"100644\", treeEntryName = \"CHANGELOG.mkd\", treeEntryRef = \"ec00a76061539cf774614788270214499696f871\"},TreeEntry {treeEntryPerms = \"100644\", treeEntryName = \"DEVELOPERS.mkd\", treeEntryRef = \"f95aaf80007d225f00d3109987ee42ef2c2e0c0a\"},TreeEntry {treeEntryPerms = \"100644\", treeEntryName = \"LICENSE\", treeEntryRef = \"ee08d7e44f15108ef5359550399dad55955b56ca\"},TreeEntry {treeEntryPerms = \"100644\", treeEntryName = \"README.md\", treeEntryRef = \"d18ee9450251ea1b9a02ebd4d6fce022df9eb5e4\"},TreeEntry {treeEntryPerms = \"40000\", treeEntryName = \"adobe-swatches-solarized\", treeEntryRef = \"1981c76881c6a14e14d067a44247acd1bf6bbc3a\"},TreeEntry {treeEntryPerms = \"40000\", treeEntryName = \"apple-colorpalette-solarized\", treeEntryRef = \"825c732bdd3a62aeb543ca89026a26a2ee0fba26\"},TreeEntry {treeEntryPerms = \"40000\", treeEntryName = \"emacs-colors-solarized\", treeEntryRef = \"7bab2828df5de23262a821cc48fe0ccf8bd2a9ae\"},TreeEntry {treeEntryPerms = \"40000\", treeEntryName = \"files\", treeEntryRef = \"f5fe8c3e20b2577223f617683a52eac31c5c9f30\"},TreeEntry {treeEntryPerms = \"40000\", treeEntryName = \"gedit\", treeEntryRef = \"5b60111510dbb3d8560cf58a36a20a99fc175658\"},TreeEntry {treeEntryPerms = \"40000\", treeEntryName = \"gimp-palette-solarized\", treeEntryRef = \"60c9df3d6e1994b76d72c061a02639af3d925655\"},TreeEntry {treeEntryPerms = \"40000\", treeEntryName = \"img\", treeEntryRef = \"979cf43752e4d698c7b5b47cff665142a274c133\"},TreeEntry {treeEntryPerms = \"40000\", treeEntryName = \"intellij-colors-solarized\", treeEntryRef = \"3ff6d431303b66cc50e45b6fabd72302f210aebc\"},TreeEntry {treeEntryPerms = \"40000\", treeEntryName = \"iterm2-colors-solarized\", treeEntryRef = \"8f387a531ad08f146c86e4b6007b898064ad4d7f\"},TreeEntry {treeEntryPerms = \"40000\", treeEntryName = \"mutt-colors-solarized\", treeEntryRef = \"1e37592e62c85909be4c5e5eb774f177766e8422\"},TreeEntry {treeEntryPerms = \"40000\", treeEntryName = \"netbeans-colors-solarized\", treeEntryRef = \"8f321f917040d903f701a2b33aeee26aed2ee544\"},TreeEntry {treeEntryPerms = \"40000\", treeEntryName = \"osx-terminal.app-colors-solarized\", treeEntryRef = \"0d408465820822f6a2afccf43e9627375fedc278\"},TreeEntry {treeEntryPerms = \"40000\", treeEntryName = \"putty-colors-solarized\", treeEntryRef = \"63dfa6c40d214f8e0f76d39f7a2283e053940a19\"},TreeEntry {treeEntryPerms = \"40000\", treeEntryName = \"qtcreator\", treeEntryRef = \"453921a267d3eb855e40c7de73aee46088563f3e\"},TreeEntry {treeEntryPerms = \"40000\", treeEntryName = \"seestyle-colors-solarized\", treeEntryRef = \"5dd6832a324187f8f521bef928891fb87cf845f6\"},TreeEntry {treeEntryPerms = \"40000\", treeEntryName = \"textmate-colors-solarized\", treeEntryRef = \"3c15973ed107e7b37d1c4885f82984658ecbdf6a\"},TreeEntry {treeEntryPerms = \"40000\", treeEntryName = \"textwrangler-bbedit-colors-solarized\", treeEntryRef = \"4db152b36a47e31a872e778c02161f537888e44b\"},TreeEntry {treeEntryPerms = \"40000\", treeEntryName = \"tmux\", treeEntryRef = \"09b5f2f69e1596c6ff66fb187ea6bdc385845152\"},TreeEntry {treeEntryPerms = \"40000\", treeEntryName = \"utils\", treeEntryRef = \"635ebbb919fcbbaf6fe958998553bf3f5fe09210\"},TreeEntry {treeEntryPerms = \"40000\", treeEntryName = \"vim-colors-solarized\", treeEntryRef = \"b87a2100b0a79424cd4b2a4e4ef03274b130a206\"},TreeEntry {treeEntryPerms = \"40000\", treeEntryName = \"visualstudio-colors-solarized\", treeEntryRef = \"8dea7190b79c05404aa6a1f0d67c5c6671d66fe1\"},TreeEntry {treeEntryPerms = \"40000\", treeEntryName = \"xchat\", treeEntryRef = \"0a531826e913a4b11823ee1be6e1b367f826006f\"},TreeEntry {treeEntryPerms = \"40000\", treeEntryName = \"xfce4-terminal\", treeEntryRef = \"2870bdf394a6b6b3bd10c263ffe9396a0d3d3366\"},TreeEntry {treeEntryPerms = \"40000\", treeEntryName = \"xresources\", treeEntryRef = \"5d1a212e2fd9cdc2b678e3be56cf776b2f16cfe2\"}]}"
      ]
     },
     "metadata": {},
     "output_type": "display_data"
    }
   ],
   "source": [
    "import Data.ByteString.Base16 (encode)\n",
    "\n",
    "parseBinRef :: Parser Ref\n",
    "parseBinRef = encode <$> AC.take 20\n",
    "\n",
    "data Tree = Tree { treeEntries :: [TreeEntry] } deriving (Eq, Show)\n",
    "\n",
    "data TreeEntry = TreeEntry\n",
    "    { treeEntryPerms :: ByteString\n",
    "    , treeEntryName  :: ByteString\n",
    "    , treeEntryRef   :: Ref\n",
    "    } deriving (Eq, Show)\n",
    "\n",
    "parseTreeEntry :: Parser TreeEntry\n",
    "parseTreeEntry = do\n",
    "    perms <- fromString <$> AC.many1' AC.digit\n",
    "    AC.space\n",
    "    name  <- AC.takeWhile (/='\\NUL')\n",
    "    AC.char '\\NUL'\n",
    "    ref   <- parseBinRef\n",
    "    return $ TreeEntry perms name ref\n",
    "\n",
    "parseTree :: Parser Tree\n",
    "parseTree = Tree <$> AC.many' parseTreeEntry\n",
    "\n",
    "tree <- decompress <$> B.readFile \".git/objects/ec/d0e58d6832566540a30dfd4878db518d5451d0\"\n",
    "\n",
    "parsedTree = parsed (parseHeader *> parseTree) tree\n",
    "parsedTree"
   ]
  },
  {
   "cell_type": "code",
   "execution_count": 21,
   "metadata": {},
   "outputs": [
    {
     "data": {
      "text/plain": [
       "True"
      ]
     },
     "metadata": {},
     "output_type": "display_data"
    }
   ],
   "source": [
    "import Data.ByteString.Base16 (decode)\n",
    "\n",
    "instance Byteable TreeEntry where\n",
    "    toBytes (TreeEntry perms name ref) = mconcat [perms, \" \", name, \"\\NUL\", fst $ decode ref]\n",
    "\n",
    "instance Byteable Tree where\n",
    "    toBytes (Tree entries) = mconcat (map toBytes entries)\n",
    "\n",
    "(parsed parseTree . toBytes $ parsedTree) == parsedTree"
   ]
  },
  {
   "cell_type": "code",
   "execution_count": 22,
   "metadata": {},
   "outputs": [
    {
     "data": {
      "text/plain": [
       "Solarized Changelog\n",
       "===================\n",
       "\n",
       "## Current release 1.0.0beta2\n",
       "\n",
       "1.0.0beta2\n",
       "----------\n",
       "\n",
       "### Summary\n",
       "\n",
       "Switch to the alternative red hue (final and only hue change), included a whole\n",
       "heap of new ports and updates to the existing Vim colorscheme. The list of all \n",
       "currently included ports, highlighted items are new, updates noted:\n",
       "\n",
       "#### Editors & IDEs\n",
       "\n",
       "*   \\[UPDATED\\] **Vim**\n",
       "*   \\[NEW\\] ***Emacs***\n",
       "*   \\[NEW\\] ***IntelliJ IDEA***\n",
       "*   \\[NEW\\] ***NetBeans***\n",
       "*   \\[NEW\\] ***SeeStyle theme for Coda & SubEthaEdit***\n",
       "*   \\[NEW\\] ***TextMate***\n",
       "*   \\[NEW\\] ***Visual Studio***\n",
       "\n",
       "#### Terminal Emulators\n",
       "\n",
       "* \\[UPDATED\\] **iTerm2 colorschemes**\n",
       "* \\[UPDATED\\] **OS X Terminal.app colors**\n",
       "* \\[UPDATED\\] **Xresources colors**\n",
       "\n",
       "#### Other Applications\n",
       "\n",
       "* \\[UPDATED\\] **Mutt mail client colorschemes**\n",
       "\n",
       "#### Palettes\n",
       "\n",
       "* \\[UPDATED\\] **Adobe Photoshop Swatches**\n",
       "* \\[UPDATED\\] **Apple Color Picker Palette**\n",
       "* \\[UPDATED\\] **Gimp Palette**\n",
       "\n",
       "\n",
       "### Critical Changes\n",
       "\n",
       "These changes may require you to change your configuration.\n",
       "\n",
       "*   **GLOBAL : IMPROVEMENT : New red accent color value**\n",
       "    Modified red from L\\*a\\*b lightness value 45 to 50 to bring it in\n",
       "    line with the other accent colors and address bleed into dark background on \n",
       "    some displays, as well as reducing shift of red against base03 when viewed \n",
       "    with glasses (chromatic aberration). All instances of the colorscheme and \n",
       "    palettes updated to new red and avalailable for use/import without further \n",
       "    modification. Forks and ports should pull new changes and/or update ported \n",
       "    red value accordingly.  The new red:\n",
       "\n",
       "            red #dc322f\n",
       "\n",
       "*   **VIM : CHANGE : Default mode now 16 color**\n",
       "    Default terminal mode is now ***16 colors***. Most of the users of terminal \n",
       "    mode seem comfortabel and capable changing terminal colors. This is the \n",
       "    preferred method of implementing Solarized in Terminal mode. If you wish to \n",
       "    instead use the degraded 256 color palette, you may do so with the \n",
       "    following line in your .vimrc:\n",
       "\n",
       "            let g:solarized_termcolors=256\n",
       "\n",
       "    You no longer need to specify \"let g:solarized_termcolors=16\" as it is now \n",
       "    the default; leaving it in your .vimrc won't hurt anything, however.\n",
       "\n",
       "*   **VIM : IMPROVEMENT : New Toggle Background Plugin**\n",
       "    Added new Toggle Background plugin. Will load automatically and show up as \n",
       "    a menu item in the `Window` menu in gui vim. Automatically maps to\n",
       "    `<F5>` if available (won't clobber that mapping if you're using it).\n",
       "    Also available as a command `:ToggleBG`.  To manually map to\n",
       "    something other than `<F5>`:\n",
       "\n",
       "    To set your own mapping in your .vimrc file, simply add the following line \n",
       "    to support normal, insert and visual mode usage, changing the\n",
       "    \"`<F5>`\" value to the key or key combination you wish to use:\n",
       "\n",
       "        call togglebg#map(\"<F5>\")\n",
       "\n",
       "    Note that you'll want to use a single function key or equivalent if you want \n",
       "    the plugin to work in all modes (normal, insert, visual).\n",
       "\n",
       "*   **VIM : IMPROVEMENT : Special & Non-text items now more visible**\n",
       "    Special characters such as trailing whitespace, tabs, newlines, when \n",
       "    displayed using \":set list\" can be set to one of three levels depending on \n",
       "    your needs.\n",
       "\n",
       "            let g:solarized_visibility =  \"normal\"|   \"high\" or \"low\"\n",
       "\n",
       "    I'll be honest: I still prefer low visibility. I like them barely there.  \n",
       "    They show up in lines that are highlighted as by the cursor line, which \n",
       "    works for me. If you are with me on this, put the following in your .vimrc:\n",
       "\n",
       "            let g:solarized_visibility =  \"low\"\n",
       "\n",
       "### Non Critical Changes\n",
       "\n",
       "These changes should not impact your usage of the Solarized.\n",
       "\n",
       "*   **PALETTES : IMPROVEMENT : Colorspace tagged and untagged versions**\n",
       "    Changed default OS X color picker palatte swatches to tagged colors (sRGB) \n",
       "    and included alternate palette with untagged color swatches for advanced \n",
       "    users (v1.0.0beta1 had untagged as default).\n",
       "\n",
       "*   **VIM : BUGFIX : Better display in Terminal.app, other emulators**\n",
       "    Terminal.app and other common terminal emulators that report 8 color mode \n",
       "    had display issues due to order of synt highlighting definitions and color \n",
       "    values specified. These have been conformed and reordered in such a way \n",
       "    that there is a more graceful degrading of the Solarized color palette on \n",
       "    8 color terminals. Infact, the experience should be almost identical to gui \n",
       "    other than lack of bold typeface.\n",
       "\n",
       "*   **VIM : BUGFIX : Better distinction between status bar and split windows**\n",
       "    Status bar was previously too similar to the cursor line and window splits.  \n",
       "    This has now been changed significantly to improve the clarity of what is \n",
       "    status, cursor line and window separator.\n",
       "\n",
       "*   **VIM : STREAMLINED : Removed simultaneous gui/cterm definitions**\n",
       "*   Refactored solarized.vim to eliminate simultaneous definition of gui and \n",
       "    cterm values.\n",
       "\n",
       "*   **VIM : BUGFIX : Removed italicized front in terminal mode**\n",
       "    Removed default italicized font in terminal mode in the Solarized Vim\n",
       "    colorscheme (many terminal emulators display Vim italics as reversed type).  \n",
       "    Italics still used in GUI mode by default and can still be turned off in \n",
       "    both modes by setting a variable: `let g:solarized_italic=0`.\n",
       "\n",
       "1.0.0beta1\n",
       "----------\n",
       "\n",
       "First public release. Included:\n",
       "\n",
       "* Adobe Photoshop Swatches\n",
       "* Apple Color Picker Palette\n",
       "* Gimp Palette\n",
       "* iTerm2 colorschemes\n",
       "* Mutt mail client colorschemes\n",
       "* OS X Terminal.app colors\n",
       "* Vim Colorscheme\n",
       "* Xresources colors\n",
       "\n",
       "\n",
       "\n",
       "***\n",
       "\n",
       "MODIFIED: 2011 Apr 16"
      ]
     },
     "metadata": {},
     "output_type": "display_data"
    }
   ],
   "source": [
    ":!git cat-file -p ec00a76061539cf774614788270214499696f871"
   ]
  },
  {
   "cell_type": "code",
   "execution_count": 23,
   "metadata": {},
   "outputs": [
    {
     "data": {
      "text/plain": [
       "\"blob 5549\\NULSolarized Changelog\\n===================\\n\\n## Current release 1.0.0beta2\\n\\n1.0.0beta2\\n----------\\n\\n### Summary\\n\\nSwitch to the alternative red hue (final and only hue change), included a whole\\nheap of new ports and updates to the existing Vim colorscheme. The list of all \\ncurrently included ports, highlighted items are new, updates noted:\\n\\n#### Editors & IDEs\\n\\n*   \\\\[UPDATED\\\\] **Vim**\\n*   \\\\[NEW\\\\] ***Emacs***\\n*   \\\\[NEW\\\\] ***IntelliJ IDEA***\\n*   \\\\[NEW\\\\] ***NetBeans***\\n*   \\\\[NEW\\\\] ***SeeStyle theme for Coda & SubEthaEdit***\\n*   \\\\[NEW\\\\] ***TextMate***\\n*   \\\\[NEW\\\\] ***Visual Studio***\\n\\n#### Terminal Emulators\\n\\n* \\\\[UPDATED\\\\] **iTerm2 colorschemes**\\n* \\\\[UPDATED\\\\] **OS X Terminal.app colors**\\n* \\\\[UPDATED\\\\] **Xresources colors**\\n\\n#### Other Applications\\n\\n* \\\\[UPDATED\\\\] **Mutt mail client colorschemes**\\n\\n#### Palettes\\n\\n* \\\\[UPDATED\\\\] **Adobe Photoshop Swatches**\\n* \\\\[UPDATED\\\\] **Apple Color Picker Palette**\\n* \\\\[UPDATED\\\\] **Gimp Palette**\\n\\n\\n### Critical Changes\\n\\nThese changes may require you to change your configuration.\\n\\n*   **GLOBAL : IMPROVEMENT : New red accent color value**\\n    Modified red from L\\\\*a\\\\*b lightness value 45 to 50 to bring it in\\n    line with the other accent colors and address bleed into dark background on \\n    some displays, as well as reducing shift of red against base03 when viewed \\n    with glasses (chromatic aberration). All instances of the colorscheme and \\n    palettes updated to new red and avalailable for use/import without further \\n    modification. Forks and ports should pull new changes and/or update ported \\n    red value accordingly.  The new red:\\n\\n            red #dc322f\\n\\n*   **VIM : CHANGE : Default mode now 16 color**\\n    Default terminal mode is now ***16 colors***. Most of the users of terminal \\n    mode seem comfortabel and capable changing terminal colors. This is the \\n    preferred method of implementing Solarized in Terminal mode. If you wish to \\n    instead use the degraded 256 color palette, you may do so with the \\n    following line in your .vimrc:\\n\\n            let g:solarized_termcolors=256\\n\\n    You no longer need to specify \\\"let g:solarized_termcolors=16\\\" as it is now \\n    the default; leaving it in your .vimrc won't hurt anything, however.\\n\\n*   **VIM : IMPROVEMENT : New Toggle Background Plugin**\\n    Added new Toggle Background plugin. Will load automatically and show up as \\n    a menu item in the `Window` menu in gui vim. Automatically maps to\\n    `<F5>` if available (won't clobber that mapping if you're using it).\\n    Also available as a command `:ToggleBG`.  To manually map to\\n    something other than `<F5>`:\\n\\n    To set your own mapping in your .vimrc file, simply add the following line \\n    to support normal, insert and visual mode usage, changing the\\n    \\\"`<F5>`\\\" value to the key or key combination you wish to use:\\n\\n        call togglebg#map(\\\"<F5>\\\")\\n\\n    Note that you'll want to use a single function key or equivalent if you want \\n    the plugin to work in all modes (normal, insert, visual).\\n\\n*   **VIM : IMPROVEMENT : Special & Non-text items now more visible**\\n    Special characters such as trailing whitespace, tabs, newlines, when \\n    displayed using \\\":set list\\\" can be set to one of three levels depending on \\n    your needs.\\n\\n            let g:solarized_visibility =  \\\"normal\\\"|   \\\"high\\\" or \\\"low\\\"\\n\\n    I'll be honest: I still prefer low visibility. I like them barely there.  \\n    They show up in lines that are highlighted as by the cursor line, which \\n    works for me. If you are with me on this, put the following in your .vimrc:\\n\\n            let g:solarized_visibility =  \\\"low\\\"\\n\\n### Non Critical Changes\\n\\nThese changes should not impact your usage of the Solarized.\\n\\n*   **PALETTES : IMPROVEMENT : Colorspace tagged and untagged versions**\\n    Changed default OS X color picker palatte swatches to tagged colors (sRGB) \\n    and included alternate palette with untagged color swatches for advanced \\n    users (v1.0.0beta1 had untagged as default).\\n\\n*   **VIM : BUGFIX : Better display in Terminal.app, other emulators**\\n    Terminal.app and other common terminal emulators that report 8 color mode \\n    had display issues due to order of synt highlighting definitions and color \\n    values specified. These have been conformed and reordered in such a way \\n    that there is a more graceful degrading of the Solarized color palette on \\n    8 color terminals. Infact, the experience should be almost identical to gui \\n    other than lack of bold typeface.\\n\\n*   **VIM : BUGFIX : Better distinction between status bar and split windows**\\n    Status bar was previously too similar to the cursor line and window splits.  \\n    This has now been changed significantly to improve the clarity of what is \\n    status, cursor line and window separator.\\n\\n*   **VIM : STREAMLINED : Removed simultaneous gui/cterm definitions**\\n*   Refactored solarized.vim to eliminate simultaneous definition of gui and \\n    cterm values.\\n\\n*   **VIM : BUGFIX : Removed italicized front in terminal mode**\\n    Removed default italicized font in terminal mode in the Solarized Vim\\n    colorscheme (many terminal emulators display Vim italics as reversed type).  \\n    Italics still used in GUI mode by default and can still be turned off in \\n    both modes by setting a variable: `let g:solarized_italic=0`.\\n\\n1.0.0beta1\\n----------\\n\\nFirst public release. Included:\\n\\n* Adobe Photoshop Swatches\\n* Apple Color Picker Palette\\n* Gimp Palette\\n* iTerm2 colorschemes\\n* Mutt mail client colorschemes\\n* OS X Terminal.app colors\\n* Vim Colorscheme\\n* Xresources colors\\n\\n\\n\\n***\\n\\nMODIFIED: 2011 Apr 16\\n\""
      ]
     },
     "metadata": {},
     "output_type": "display_data"
    }
   ],
   "source": [
    "blob <- decompress <$> B.readFile \".git/objects/ec/00a76061539cf774614788270214499696f871\"\n",
    "blob"
   ]
  },
  {
   "cell_type": "code",
   "execution_count": 24,
   "metadata": {},
   "outputs": [
    {
     "data": {
      "text/plain": [
       "Blob {blobContent = \"Solarized Changelog\\n===================\\n\\n## Current release 1.0.0beta2\\n\\n1.0.0beta2\\n----------\\n\\n### Summary\\n\\nSwitch to the alternative red hue (final and only hue change), included a whole\\nheap of new ports and updates to the existing Vim colorscheme. The list of all \\ncurrently included ports, highlighted items are new, updates noted:\\n\\n#### Editors & IDEs\\n\\n*   \\\\[UPDATED\\\\] **Vim**\\n*   \\\\[NEW\\\\] ***Emacs***\\n*   \\\\[NEW\\\\] ***IntelliJ IDEA***\\n*   \\\\[NEW\\\\] ***NetBeans***\\n*   \\\\[NEW\\\\] ***SeeStyle theme for Coda & SubEthaEdit***\\n*   \\\\[NEW\\\\] ***TextMate***\\n*   \\\\[NEW\\\\] ***Visual Studio***\\n\\n#### Terminal Emulators\\n\\n* \\\\[UPDATED\\\\] **iTerm2 colorschemes**\\n* \\\\[UPDATED\\\\] **OS X Terminal.app colors**\\n* \\\\[UPDATED\\\\] **Xresources colors**\\n\\n#### Other Applications\\n\\n* \\\\[UPDATED\\\\] **Mutt mail client colorschemes**\\n\\n#### Palettes\\n\\n* \\\\[UPDATED\\\\] **Adobe Photoshop Swatches**\\n* \\\\[UPDATED\\\\] **Apple Color Picker Palette**\\n* \\\\[UPDATED\\\\] **Gimp Palette**\\n\\n\\n### Critical Changes\\n\\nThese changes may require you to change your configuration.\\n\\n*   **GLOBAL : IMPROVEMENT : New red accent color value**\\n    Modified red from L\\\\*a\\\\*b lightness value 45 to 50 to bring it in\\n    line with the other accent colors and address bleed into dark background on \\n    some displays, as well as reducing shift of red against base03 when viewed \\n    with glasses (chromatic aberration). All instances of the colorscheme and \\n    palettes updated to new red and avalailable for use/import without further \\n    modification. Forks and ports should pull new changes and/or update ported \\n    red value accordingly.  The new red:\\n\\n            red #dc322f\\n\\n*   **VIM : CHANGE : Default mode now 16 color**\\n    Default terminal mode is now ***16 colors***. Most of the users of terminal \\n    mode seem comfortabel and capable changing terminal colors. This is the \\n    preferred method of implementing Solarized in Terminal mode. If you wish to \\n    instead use the degraded 256 color palette, you may do so with the \\n    following line in your .vimrc:\\n\\n            let g:solarized_termcolors=256\\n\\n    You no longer need to specify \\\"let g:solarized_termcolors=16\\\" as it is now \\n    the default; leaving it in your .vimrc won't hurt anything, however.\\n\\n*   **VIM : IMPROVEMENT : New Toggle Background Plugin**\\n    Added new Toggle Background plugin. Will load automatically and show up as \\n    a menu item in the `Window` menu in gui vim. Automatically maps to\\n    `<F5>` if available (won't clobber that mapping if you're using it).\\n    Also available as a command `:ToggleBG`.  To manually map to\\n    something other than `<F5>`:\\n\\n    To set your own mapping in your .vimrc file, simply add the following line \\n    to support normal, insert and visual mode usage, changing the\\n    \\\"`<F5>`\\\" value to the key or key combination you wish to use:\\n\\n        call togglebg#map(\\\"<F5>\\\")\\n\\n    Note that you'll want to use a single function key or equivalent if you want \\n    the plugin to work in all modes (normal, insert, visual).\\n\\n*   **VIM : IMPROVEMENT : Special & Non-text items now more visible**\\n    Special characters such as trailing whitespace, tabs, newlines, when \\n    displayed using \\\":set list\\\" can be set to one of three levels depending on \\n    your needs.\\n\\n            let g:solarized_visibility =  \\\"normal\\\"|   \\\"high\\\" or \\\"low\\\"\\n\\n    I'll be honest: I still prefer low visibility. I like them barely there.  \\n    They show up in lines that are highlighted as by the cursor line, which \\n    works for me. If you are with me on this, put the following in your .vimrc:\\n\\n            let g:solarized_visibility =  \\\"low\\\"\\n\\n### Non Critical Changes\\n\\nThese changes should not impact your usage of the Solarized.\\n\\n*   **PALETTES : IMPROVEMENT : Colorspace tagged and untagged versions**\\n    Changed default OS X color picker palatte swatches to tagged colors (sRGB) \\n    and included alternate palette with untagged color swatches for advanced \\n    users (v1.0.0beta1 had untagged as default).\\n\\n*   **VIM : BUGFIX : Better display in Terminal.app, other emulators**\\n    Terminal.app and other common terminal emulators that report 8 color mode \\n    had display issues due to order of synt highlighting definitions and color \\n    values specified. These have been conformed and reordered in such a way \\n    that there is a more graceful degrading of the Solarized color palette on \\n    8 color terminals. Infact, the experience should be almost identical to gui \\n    other than lack of bold typeface.\\n\\n*   **VIM : BUGFIX : Better distinction between status bar and split windows**\\n    Status bar was previously too similar to the cursor line and window splits.  \\n    This has now been changed significantly to improve the clarity of what is \\n    status, cursor line and window separator.\\n\\n*   **VIM : STREAMLINED : Removed simultaneous gui/cterm definitions**\\n*   Refactored solarized.vim to eliminate simultaneous definition of gui and \\n    cterm values.\\n\\n*   **VIM : BUGFIX : Removed italicized front in terminal mode**\\n    Removed default italicized font in terminal mode in the Solarized Vim\\n    colorscheme (many terminal emulators display Vim italics as reversed type).  \\n    Italics still used in GUI mode by default and can still be turned off in \\n    both modes by setting a variable: `let g:solarized_italic=0`.\\n\\n1.0.0beta1\\n----------\\n\\nFirst public release. Included:\\n\\n* Adobe Photoshop Swatches\\n* Apple Color Picker Palette\\n* Gimp Palette\\n* iTerm2 colorschemes\\n* Mutt mail client colorschemes\\n* OS X Terminal.app colors\\n* Vim Colorscheme\\n* Xresources colors\\n\\n\\n\\n***\\n\\nMODIFIED: 2011 Apr 16\\n\"}"
      ]
     },
     "metadata": {},
     "output_type": "display_data"
    }
   ],
   "source": [
    "data Blob = Blob { blobContent :: ByteString } deriving (Eq, Show)\n",
    "\n",
    "parseBlob :: Parser Blob\n",
    "parseBlob = Blob <$> AC.takeByteString\n",
    "\n",
    "parsedBlob = parsed (parseHeader *> parseBlob) blob\n",
    "parsedBlob"
   ]
  },
  {
   "cell_type": "code",
   "execution_count": 25,
   "metadata": {},
   "outputs": [
    {
     "data": {
      "text/plain": [
       "True"
      ]
     },
     "metadata": {},
     "output_type": "display_data"
    }
   ],
   "source": [
    "instance Byteable Blob where\n",
    "    toBytes (Blob content) = content\n",
    "\n",
    "(parsed parseBlob . toBytes $ parsedBlob) == parsedBlob"
   ]
  },
  {
   "cell_type": "code",
   "execution_count": 26,
   "metadata": {},
   "outputs": [
    {
     "data": {
      "text/plain": [
       "31ff7f5064824d2231648119feb6dfda1a3c89f5 refs/tags/v1.0.0beta1\n",
       "a3037b428f29f0c032aeeeedb4758501bc32444d refs/tags/v1.0beta"
      ]
     },
     "metadata": {},
     "output_type": "display_data"
    }
   ],
   "source": [
    ":!git show-ref --tags"
   ]
  },
  {
   "cell_type": "code",
   "execution_count": 27,
   "metadata": {},
   "outputs": [
    {
     "data": {
      "text/plain": [
       "object 90581c7bfbcd279768580eec595d0ab3c094cc02\n",
       "type commit\n",
       "tag v1.0.0beta1\n",
       "tagger Ethan Schoonover <es@ethanschoonover.com> 1300994142 -0700\n",
       "\n",
       "Initial public beta release 1.0.0beta1"
      ]
     },
     "metadata": {},
     "output_type": "display_data"
    }
   ],
   "source": [
    ":!git cat-file -p 31ff7f5064824d2231648119feb6dfda1a3c89f5"
   ]
  },
  {
   "cell_type": "code",
   "execution_count": 28,
   "metadata": {},
   "outputs": [
    {
     "data": {
      "text/plain": [
       "\"tag 182\\NULobject 90581c7bfbcd279768580eec595d0ab3c094cc02\\ntype commit\\ntag v1.0.0beta1\\ntagger Ethan Schoonover <es@ethanschoonover.com> 1300994142 -0700\\n\\nInitial public beta release 1.0.0beta1\\n\""
      ]
     },
     "metadata": {},
     "output_type": "display_data"
    }
   ],
   "source": [
    "tag <- decompress <$> B.readFile \".git/objects/31/ff7f5064824d2231648119feb6dfda1a3c89f5\"\n",
    "tag"
   ]
  },
  {
   "cell_type": "code",
   "execution_count": 29,
   "metadata": {},
   "outputs": [
    {
     "data": {
      "text/plain": [
       "Tag {tagObject = \"90581c7bfbcd279768580eec595d0ab3c094cc02\", tagType = \"commit\", tagTag = \"v1.0.0beta1\", tagTagger = \"Ethan Schoonover <es@ethanschoonover.com> 1300994142 -0700\", tagAnnotation = \"Initial public beta release 1.0.0beta1\\n\"}"
      ]
     },
     "metadata": {},
     "output_type": "display_data"
    }
   ],
   "source": [
    "data Tag = Tag\n",
    "    { tagObject     :: Ref\n",
    "    , tagType       :: ByteString\n",
    "    , tagTag        :: ByteString\n",
    "    , tagTagger     :: ByteString\n",
    "    , tagAnnotation :: ByteString\n",
    "    } deriving (Eq, Show)\n",
    "\n",
    "parseTag :: Parser Tag\n",
    "parseTag = do\n",
    "    tObject     <- AC.string \"object\" *> AC.space *> parseHexRef                                                 <* AC.endOfLine\n",
    "    tType       <- AC.string \"type\"   *> AC.space *> AC.choice (map AC.string [\"commit\", \"tree\", \"blob\", \"tag\"]) <* AC.endOfLine\n",
    "    tTag        <- AC.string \"tag\"    *> AC.space *> AC.takeTill (AC.inClass \"\\n\")                               <* AC.endOfLine\n",
    "    tTagger     <- AC.string \"tagger\" *> AC.space *> AC.takeTill (AC.inClass \"\\n\")                               <* AC.endOfLine\n",
    "    AC.endOfLine\n",
    "    tAnnotation <- AC.takeByteString\n",
    "    return $ Tag tObject tType tTag tTagger tAnnotation\n",
    "\n",
    "parsedTag = parsed (parseHeader *> parseTag) tag\n",
    "parsedTag"
   ]
  },
  {
   "cell_type": "code",
   "execution_count": 30,
   "metadata": {},
   "outputs": [
    {
     "data": {
      "text/plain": [
       "True"
      ]
     },
     "metadata": {},
     "output_type": "display_data"
    }
   ],
   "source": [
    "instance Byteable Tag where\n",
    "    toBytes (Tag tObject tType tTag tTagger tAnnotation) = mconcat\n",
    "        [ \"object \" <> tObject     <> \"\\n\"\n",
    "        , \"type \"   <> tType       <> \"\\n\"\n",
    "        , \"tag \"    <> tTag        <> \"\\n\"\n",
    "        , \"tagger \" <> tTagger     <> \"\\n\"\n",
    "        ,                             \"\\n\"\n",
    "        ,              tAnnotation\n",
    "        ]\n",
    "\n",
    "(parsed parseTag . toBytes $ parsedTag) == parsedTag"
   ]
  },
  {
   "cell_type": "code",
   "execution_count": 31,
   "metadata": {},
   "outputs": [],
   "source": [
    "data GitObject\n",
    "    = GitCommit Commit\n",
    "    | GitTree   Tree\n",
    "    | GitBlob   Blob\n",
    "    | GitTag    Tag\n",
    "    deriving (Eq, Show)\n",
    "\n",
    "parseGitObject :: Parser GitObject\n",
    "parseGitObject = do\n",
    "    headerLen <- parseHeader\n",
    "    case (fst headerLen) of\n",
    "        \"commit\" -> GitCommit <$> parseCommit\n",
    "        \"tree\"   -> GitTree   <$> parseTree\n",
    "        \"blob\"   -> GitBlob   <$> parseBlob\n",
    "        \"tag\"    -> GitTag    <$> parseTag\n",
    "        _        -> error \"not a git object\"\n",
    "\n",
    "instance Byteable GitObject where\n",
    "    toBytes obj = case obj of\n",
    "        GitCommit c -> withHeader \"commit\" (toBytes c)\n",
    "        GitTree   t -> withHeader \"tree\"   (toBytes t)\n",
    "        GitBlob   b -> withHeader \"blob\"   (toBytes b)\n",
    "        GitTag    t -> withHeader \"tag\"    (toBytes t)\n",
    "\n",
    "hashObject :: GitObject -> Ref\n",
    "hashObject = hash . toBytes"
   ]
  },
  {
   "cell_type": "code",
   "execution_count": 32,
   "metadata": {},
   "outputs": [
    {
     "data": {
      "text/plain": [
       "\"31ff7f5064824d2231648119feb6dfda1a3c89f5\""
      ]
     },
     "metadata": {},
     "output_type": "display_data"
    }
   ],
   "source": [
    "hashObject . parsed parseGitObject <$> (decompress <$> B.readFile \".git/objects/31/ff7f5064824d2231648119feb6dfda1a3c89f5\")"
   ]
  },
  {
   "cell_type": "code",
   "execution_count": 33,
   "metadata": {},
   "outputs": [
    {
     "data": {
      "text/plain": [
       "\".git/objects/31/ff7f5064824d2231648119feb6dfda1a3c89f5\""
      ]
     },
     "metadata": {},
     "output_type": "display_data"
    }
   ],
   "source": [
    "import System.FilePath ((</>))\n",
    "\n",
    "refPath :: FilePath -> Ref -> FilePath\n",
    "refPath gitDir ref = let\n",
    "   (dir,file) = splitAt 2 (toString ref)\n",
    "   in gitDir </> \"objects\" </> dir </> file\n",
    "\n",
    "refPath \".git\" \"31ff7f5064824d2231648119feb6dfda1a3c89f5\""
   ]
  },
  {
   "cell_type": "code",
   "execution_count": 34,
   "metadata": {},
   "outputs": [
    {
     "data": {
      "text/plain": [
       "GitTag (Tag {tagObject = \"90581c7bfbcd279768580eec595d0ab3c094cc02\", tagType = \"commit\", tagTag = \"v1.0.0beta1\", tagTagger = \"Ethan Schoonover <es@ethanschoonover.com> 1300994142 -0700\", tagAnnotation = \"Initial public beta release 1.0.0beta1\\n\"})"
      ]
     },
     "metadata": {},
     "output_type": "display_data"
    }
   ],
   "source": [
    "readObject :: FilePath -> Ref -> IO GitObject\n",
    "readObject gitDir ref = do\n",
    "    let path = refPath gitDir ref\n",
    "    content <- decompress <$> B.readFile path\n",
    "    return $ parsed parseGitObject content\n",
    "\n",
    "readObject \".git\" \"31ff7f5064824d2231648119feb6dfda1a3c89f5\""
   ]
  },
  {
   "cell_type": "code",
   "execution_count": 35,
   "metadata": {},
   "outputs": [],
   "source": [
    "import System.Directory (doesPathExist, createDirectoryIfMissing)\n",
    "import System.FilePath  (takeDirectory)\n",
    "import Control.Monad    (when, unless)\n",
    "\n",
    "writeObject :: FilePath -> GitObject -> IO Ref\n",
    "writeObject gitDir object = do\n",
    "    let ref  =  hashObject object\n",
    "    let path =  refPath gitDir ref\n",
    "    exists   <- doesPathExist path\n",
    "    unless exists $ do\n",
    "        let dir = takeDirectory path\n",
    "        createDirectoryIfMissing True dir\n",
    "        B.writeFile path . compress $ toBytes object\n",
    "    return ref"
   ]
  },
  {
   "cell_type": "code",
   "execution_count": 36,
   "metadata": {},
   "outputs": [
    {
     "data": {
      "text/plain": [
       "True"
      ]
     },
     "metadata": {},
     "output_type": "display_data"
    }
   ],
   "source": [
    "import Control.Monad    (forM)\n",
    "import System.Directory (listDirectory)\n",
    "\n",
    "allRefs <- do\n",
    "    prefixes <- filter (\\d -> length d == 2) <$> listDirectory \".git/objects/\"\n",
    "    concat <$> forM prefixes (\\p ->\n",
    "        map (fromString . (p++)) <$> listDirectory (\".git/objects\" </> p))\n",
    "\n",
    "test <- forM allRefs $ \\ref -> do\n",
    "    obj  <- readObject  \".git\" ref\n",
    "    ref' <- writeObject \".git\" obj\n",
    "    return $ ref == ref'\n",
    "\n",
    "and test"
   ]
  }
 ],
 "metadata": {
  "kernelspec": {
   "display_name": "Haskell",
   "language": "haskell",
   "name": "haskell"
  },
  "language_info": {
   "codemirror_mode": "ihaskell",
   "file_extension": ".hs",
   "name": "haskell",
   "version": "8.0.2"
  }
 },
 "nbformat": 4,
 "nbformat_minor": 2
}
