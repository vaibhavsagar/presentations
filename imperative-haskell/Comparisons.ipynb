{
 "cells": [
  {
   "cell_type": "code",
   "execution_count": 1,
   "metadata": {},
   "outputs": [],
   "source": [
    "{-# LANGUAGE RankNTypes #-}\n",
    "\n",
    "import Control.Monad.ST\n",
    "import Data.STRef\n",
    "import Data.Vector (fromList, toList, freeze, thaw)\n",
    "import Control.Monad\n",
    "import Data.Vector.Mutable (STVector, read, write, swap)\n",
    "import qualified Data.Vector as V (Vector, length)\n",
    "import Data.List (sortOn)\n",
    "import Prelude hiding (read)\n",
    "import qualified Prelude\n",
    "\n",
    "contents <- map (Prelude.read . init) . lines <$> readFile \"QuickSort.txt\" :: IO [Int]\n",
    "vector = fromList contents"
   ]
  },
  {
   "cell_type": "code",
   "execution_count": 2,
   "metadata": {},
   "outputs": [],
   "source": [
    "partitionFirst array l r = do\n",
    "    p <- read array l\n",
    "    i <- newSTRef (l+1)\n",
    "    forM_ [l+1..(r-1)] $ \\j -> do\n",
    "        arrayJ <- read array j\n",
    "        i'     <- readSTRef i\n",
    "        when (arrayJ < p) $ do\n",
    "            swap array i' j\n",
    "            modifySTRef' i (+1)\n",
    "    i' <- readSTRef i\n",
    "    swap array (i'-1) l\n",
    "    return (i'-1)\n",
    "\n",
    "partitionLast array l r = do\n",
    "    swap array (r-1) l\n",
    "    partitionFirst array l r\n",
    "\n",
    "partitionMedian array l r = do\n",
    "    p <- chooseMedian array l r\n",
    "    swap array p l\n",
    "    partitionFirst array l r\n",
    "\n",
    "chooseMedian array l r = do\n",
    "    h <- read array l\n",
    "    t <- read array (r-1)\n",
    "    let len = r-l\n",
    "    let mid = if (len `mod` 2) == 0\n",
    "        then l + (len `div` 2) - 1\n",
    "        else l + (len `div` 2)\n",
    "    m <- read array mid\n",
    "    let options = sortOn snd [(l, h), (mid, m), (r-1, t)]\n",
    "    return (fst (options !! 1))"
   ]
  },
  {
   "cell_type": "code",
   "execution_count": 3,
   "metadata": {},
   "outputs": [],
   "source": [
    "quicksort array start end partition comparisons = when (start < end) $ do\n",
    "    i <- partition array start end\n",
    "    modifySTRef' comparisons (+ (end-start-1))\n",
    "    quicksort array start i   partition comparisons\n",
    "    quicksort array (i+1) end partition comparisons"
   ]
  },
  {
   "cell_type": "code",
   "execution_count": 4,
   "metadata": {
    "scrolled": true
   },
   "outputs": [
    {
     "data": {
      "text/plain": [
       "162085"
      ]
     },
     "metadata": {},
     "output_type": "display_data"
    },
    {
     "data": {
      "text/plain": [
       "164123"
      ]
     },
     "metadata": {},
     "output_type": "display_data"
    },
    {
     "data": {
      "text/plain": [
       "138382"
      ]
     },
     "metadata": {},
     "output_type": "display_data"
    }
   ],
   "source": [
    "quicksort' :: Ord a => V.Vector a -> (forall s a. (Ord a) => STVector s a -> Int -> Int -> ST s Int) -> Int\n",
    "quicksort' vector partition = runST $ do\n",
    "    array  <- thaw vector\n",
    "    comps  <- newSTRef 0\n",
    "    quicksort array 0 (V.length vector) partition comps\n",
    "    readSTRef comps\n",
    "\n",
    "quicksort' vector partitionFirst\n",
    "quicksort' vector partitionLast\n",
    "quicksort' vector partitionMedian"
   ]
  }
 ],
 "metadata": {
  "kernelspec": {
   "display_name": "Haskell",
   "language": "haskell",
   "name": "haskell"
  },
  "language_info": {
   "codemirror_mode": "ihaskell",
   "file_extension": ".hs",
   "name": "haskell",
   "version": "8.0.2"
  }
 },
 "nbformat": 4,
 "nbformat_minor": 2
}
