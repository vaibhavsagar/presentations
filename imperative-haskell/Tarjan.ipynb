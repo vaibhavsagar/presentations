{
 "cells": [
  {
   "cell_type": "code",
   "execution_count": 1,
   "metadata": {
    "collapsed": true
   },
   "outputs": [],
   "source": [
    "import qualified Data.Graph as G\n",
    "import Control.Monad.ST\n",
    "import Data.STRef\n",
    "\n",
    "import qualified Data.Map.Strict    as M\n",
    "import qualified Data.Set           as S\n",
    "import qualified Data.IntMap.Strict as I\n",
    "import qualified Data.Array         as A"
   ]
  },
  {
   "cell_type": "code",
   "execution_count": 2,
   "metadata": {},
   "outputs": [],
   "source": [
    "import Control.Monad (forM_, when)\n",
    "import Data.Maybe (isNothing, fromJust)\n",
    "\n",
    "tarjan graph = runST $ do\n",
    "    index    <- newSTRef 0\n",
    "    stack    <- newSTRef []\n",
    "    indices  <- newSTRef I.empty\n",
    "    lowlinks <- newSTRef I.empty\n",
    "    output   <- newSTRef []\n",
    "    \n",
    "    forM_ (G.vertices graph) $ \\v -> do\n",
    "        vIndex <- I.lookup v <$> readSTRef indices\n",
    "        when (isNothing vIndex) $ strongConnect v graph index stack indices lowlinks output\n",
    "    \n",
    "    reverse <$> readSTRef output\n",
    "\n",
    "strongConnect v graph index stack indices lowlinks output = do\n",
    "    i <- readSTRef index\n",
    "    modifySTRef' indices  (I.insert v i)\n",
    "    modifySTRef' lowlinks (I.insert v i)\n",
    "    modifySTRef' index (+1)\n",
    "    push stack v\n",
    "\n",
    "    forM_ (graph A.! v) $ \\w -> do\n",
    "        wIndex <- I.lookup w <$> readSTRef indices\n",
    "        if isNothing wIndex\n",
    "            then do\n",
    "                strongConnect w graph index stack indices lowlinks output\n",
    "                vLowLink <- fromJust . I.lookup v <$> readSTRef lowlinks\n",
    "                wLowLink <- fromJust . I.lookup w <$> readSTRef lowlinks\n",
    "                modifySTRef' lowlinks (I.insert v $ min vLowLink wLowLink)\n",
    "            else do\n",
    "                wOnStack <- elem w <$> readSTRef stack\n",
    "                when wOnStack $ do\n",
    "                    vLowLink <- fromJust . I.lookup v <$> readSTRef lowlinks\n",
    "                    modifySTRef' lowlinks (I.insert v $ min vLowLink (fromJust wIndex))\n",
    "\n",
    "    vLowLink <- fromJust . I.lookup v <$> readSTRef lowlinks\n",
    "    vIndex   <- fromJust . I.lookup v <$> readSTRef indices\n",
    "    when (vLowLink == vIndex) $ do\n",
    "        scc <- addSCC v [] stack\n",
    "        modifySTRef' output (scc:)    \n",
    "\n",
    "addSCC v scc stack = do\n",
    "    w <- pop stack\n",
    "    let scc' = w:scc\n",
    "    if w == v then return scc' else addSCC v scc' stack\n",
    "\n",
    "push stack e = modifySTRef' stack (e:)\n",
    "pop  stack   = do\n",
    "    e <- head <$> readSTRef stack\n",
    "    modifySTRef' stack tail\n",
    "    return e"
   ]
  },
  {
   "cell_type": "code",
   "execution_count": 3,
   "metadata": {},
   "outputs": [
    {
     "data": {
      "text/plain": [
       "[[3],[4],[2],[1],[6],[5]]"
      ]
     },
     "metadata": {},
     "output_type": "display_data"
    },
    {
     "data": {
      "text/plain": [
       "[Node {rootLabel = 6, subForest = []},Node {rootLabel = 5, subForest = []},Node {rootLabel = 4, subForest = []},Node {rootLabel = 3, subForest = []},Node {rootLabel = 2, subForest = []},Node {rootLabel = 1, subForest = []}]"
      ]
     },
     "metadata": {},
     "output_type": "display_data"
    }
   ],
   "source": [
    "exG = G.buildG (1, 6) [(1, 2), (1, 3), (2, 4), (5, 6)]\n",
    "tarjan exG\n",
    "G.scc exG"
   ]
  }
 ],
 "metadata": {
  "kernelspec": {
   "display_name": "Haskell",
   "language": "haskell",
   "name": "haskell"
  },
  "language_info": {
   "codemirror_mode": "ihaskell",
   "file_extension": ".hs",
   "name": "haskell",
   "version": "8.0.2"
  }
 },
 "nbformat": 4,
 "nbformat_minor": 2
}
