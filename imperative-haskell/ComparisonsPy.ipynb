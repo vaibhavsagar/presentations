{
 "cells": [
  {
   "cell_type": "code",
   "execution_count": null,
   "metadata": {},
   "outputs": [],
   "source": [
    "with open(\"QuickSort.txt\") as file:\n",
    "    contents = [int(line) for line in file.readlines()]"
   ]
  },
  {
   "cell_type": "code",
   "execution_count": null,
   "metadata": {},
   "outputs": [],
   "source": [
    "import sys\n",
    "sys.setrecursionlimit(10000)\n",
    "\n",
    "def partition_first(array, l, r):\n",
    "    p = array[l]\n",
    "    i = l + 1\n",
    "    for j in range(l+1, r):\n",
    "        if array[j] < p:\n",
    "            array[j], array[i] = array[i], array[j]\n",
    "            i += 1\n",
    "    array[l], array[i-1] = array[i-1], array[l]\n",
    "    return (i-1)\n",
    "\n",
    "def partition_last(array, l, r):\n",
    "    array[r-1], array[l] = array[l], array[r-1]\n",
    "    return partition_first(array, l, r)\n",
    "\n",
    "\n",
    "def partition_median(array, l, r):\n",
    "    p_idx = choose_median(array, l, r)\n",
    "    array[p_idx], array[l] = array[l], array[p_idx]\n",
    "    return partition_first(array, l, r)\n",
    "\n",
    "def choose_median(array, l, r):\n",
    "    head = array[l]\n",
    "    last = array[r-1]\n",
    "    length = r-l\n",
    "    if length % 2 == 0:\n",
    "        mid_idx = l + (length//2) - 1\n",
    "    else:\n",
    "        mid_idx = l + (length//2)\n",
    "    mid = array[mid_idx]\n",
    "    options = [(l, head), (mid_idx, mid), (r-1, last)]\n",
    "    options.remove(max(options, key=lambda v: v[1]))\n",
    "    options.remove(min(options, key=lambda v: v[1]))\n",
    "    return options[0][0]\n",
    "\n",
    "def quicksort(array, start, end, partition):\n",
    "    global comparisons\n",
    "    if end<=start: return\n",
    "    else:\n",
    "        p_idx = partition(array, start, end)\n",
    "        comparisons += (end-start-1)\n",
    "        quicksort(array, start, p_idx, partition)\n",
    "        quicksort(array, p_idx+1, end, partition)\n",
    "\n",
    "\n",
    "comparisons = 0\n",
    "inp1 = contents.copy()\n",
    "quicksort(inp1, 0, len(inp1), partition_first)\n",
    "print(comparisons)\n",
    "\n",
    "comparisons = 0\n",
    "inp2 = contents.copy()\n",
    "quicksort(inp2, 0, len(inp2), partition_last)\n",
    "print(comparisons)\n",
    "\n",
    "comparisons = 0\n",
    "inp3 = contents.copy()\n",
    "quicksort(inp3, 0, len(inp3), partition_median)\n",
    "print(comparisons)"
   ]
  }
 ],
 "metadata": {
  "kernelspec": {
   "display_name": "Python 3",
   "language": "python",
   "name": "python3"
  },
  "language_info": {
   "codemirror_mode": {
    "name": "ipython",
    "version": 3
   },
   "file_extension": ".py",
   "mimetype": "text/x-python",
   "name": "python",
   "nbconvert_exporter": "python",
   "pygments_lexer": "ipython3",
   "version": "3.6.5"
  }
 },
 "nbformat": 4,
 "nbformat_minor": 2
}
