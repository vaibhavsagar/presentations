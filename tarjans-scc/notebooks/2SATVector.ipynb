{
 "cells": [
  {
   "cell_type": "code",
   "execution_count": 1,
   "metadata": {},
   "outputs": [],
   "source": [
    "{-# LANGUAGE LambdaCase #-}\n",
    "\n",
    "import Prelude hiding (read, replicate)\n",
    "import qualified Prelude as P\n",
    "\n",
    "import Control.Monad.ST      (ST, runST)\n",
    "import Data.Array            ((!), bounds)\n",
    "import Data.Graph            (Graph, buildG, vertices)\n",
    "import Data.Vector.Mutable   (STVector, read, replicate, write)\n",
    "import Data.STRef            (STRef, modifySTRef', newSTRef, readSTRef)\n",
    "import Data.Foldable         (for_)\n",
    "\n",
    "denormalise     = subtract\n",
    "normalise       = (+)\n",
    "other n v       = 2*n - v\n",
    "clauses n [u,v] = [(other n u, v), (other n v, u)]\n",
    "\n",
    "whenM :: Monad m => m Bool -> m () -> m ()\n",
    "whenM boolM block = boolM >>= \\b -> if b then block else return ()\n",
    "\n",
    "tarjan :: Int -> Graph -> [Maybe [Int]]\n",
    "tarjan n graph = runST $ do\n",
    "    index    <- newSTRef 0\n",
    "    stack    <- newSTRef []\n",
    "    stackSet <- replicate size False\n",
    "    indices  <- replicate size Nothing\n",
    "    lowlinks <- replicate size Nothing\n",
    "    output   <- newSTRef []\n",
    "    for_ (vertices graph) $ \\v ->\n",
    "        whenM ((Nothing==) <$> read indices v) $\n",
    "            strongConnect n v graph index stack stackSet indices lowlinks output\n",
    "    readSTRef output\n",
    "    where\n",
    "        size = snd (bounds graph) + 1\n",
    "\n",
    "strongConnect\n",
    "    :: Int\n",
    "    -> Int\n",
    "    -> Graph\n",
    "    -> STRef s Int\n",
    "    -> STRef s [Int]\n",
    "    -> STVector s Bool\n",
    "    -> STVector s (Maybe Int)\n",
    "    -> STVector s (Maybe Int)\n",
    "    -> STRef s [Maybe [Int]]\n",
    "    -> ST    s ()\n",
    "strongConnect n v graph index stack stackSet indices lowlinks output = do\n",
    "    i <- readSTRef index\n",
    "    write indices  v (Just i)\n",
    "    write lowlinks v (Just i)\n",
    "    increment index\n",
    "    push stack stackSet v\n",
    "    for_ (graph ! v) $ \\w -> read indices w >>= \\case\n",
    "        Nothing -> do\n",
    "            strongConnect n w graph index stack stackSet indices lowlinks output\n",
    "            write lowlinks v =<< min <$> read lowlinks v <*> read lowlinks w\n",
    "        Just{}  -> whenM (read stackSet w) $\n",
    "            write lowlinks v =<< min <$> read lowlinks v <*> read indices  w\n",
    "    whenM ((==) <$> read lowlinks v <*> read indices v) $\n",
    "        modifySTRef' output =<< (:) <$> addSCC n v (Just []) stack stackSet\n",
    "    where \n",
    "        addSCC :: Int -> Int -> Maybe [Int] -> STRef s [Int] -> STVector s Bool -> ST s (Maybe [Int])\n",
    "        addSCC n v (Just scc) stack stackSet = do\n",
    "            w <- pop stack stackSet\n",
    "            case (other n w) `elem` scc of\n",
    "                True           -> return Nothing\n",
    "                False | w == v -> return $ Just (w:scc)\n",
    "                False          -> addSCC n v (Just (w:scc)) stack stackSet\n",
    "        \n",
    "        increment :: STRef s Int -> ST s ()\n",
    "        increment counter = modifySTRef' counter (+1)\n",
    "\n",
    "        push :: STRef s [Int] -> STVector s Bool -> Int -> ST s ()\n",
    "        push stack stackSet e = do\n",
    "            modifySTRef' stack (e:)\n",
    "            write stackSet e True\n",
    "\n",
    "        pop :: STRef s [Int] -> STVector s Bool -> ST s Int\n",
    "        pop stack stackSet = do\n",
    "            e <- head <$> readSTRef stack\n",
    "            modifySTRef' stack tail\n",
    "            write stackSet e False\n",
    "            return e"
   ]
  },
  {
   "cell_type": "code",
   "execution_count": 2,
   "metadata": {},
   "outputs": [],
   "source": [
    "checkSat :: String -> IO Bool\n",
    "checkSat name = do\n",
    "    p <- map (map P.read . words) . lines <$> readFile name\n",
    "    let pNo    = head $ head p\n",
    "        pn     = map (map (normalise pNo)) $ tail p\n",
    "        pGraph = buildG (0,2*pNo) $ concatMap (clauses pNo) pn\n",
    "    return . (Nothing /=) . sequence $ tarjan pNo pGraph"
   ]
  },
  {
   "cell_type": "code",
   "execution_count": 3,
   "metadata": {},
   "outputs": [
    {
     "data": {
      "text/plain": [
       "True"
      ]
     },
     "metadata": {},
     "output_type": "display_data"
    }
   ],
   "source": [
    "checkSat \"2sat1.txt\""
   ]
  },
  {
   "cell_type": "code",
   "execution_count": 4,
   "metadata": {},
   "outputs": [
    {
     "data": {
      "text/plain": [
       "False"
      ]
     },
     "metadata": {},
     "output_type": "display_data"
    }
   ],
   "source": [
    "checkSat \"2sat2.txt\""
   ]
  },
  {
   "cell_type": "code",
   "execution_count": 5,
   "metadata": {},
   "outputs": [
    {
     "data": {
      "text/plain": [
       "True"
      ]
     },
     "metadata": {},
     "output_type": "display_data"
    }
   ],
   "source": [
    "checkSat \"2sat3.txt\""
   ]
  },
  {
   "cell_type": "code",
   "execution_count": 6,
   "metadata": {},
   "outputs": [
    {
     "data": {
      "text/plain": [
       "True"
      ]
     },
     "metadata": {},
     "output_type": "display_data"
    }
   ],
   "source": [
    "checkSat \"2sat4.txt\""
   ]
  },
  {
   "cell_type": "code",
   "execution_count": 7,
   "metadata": {},
   "outputs": [
    {
     "data": {
      "text/plain": [
       "False"
      ]
     },
     "metadata": {},
     "output_type": "display_data"
    }
   ],
   "source": [
    "checkSat \"2sat5.txt\""
   ]
  },
  {
   "cell_type": "code",
   "execution_count": 8,
   "metadata": {},
   "outputs": [
    {
     "data": {
      "text/plain": [
       "False"
      ]
     },
     "metadata": {},
     "output_type": "display_data"
    }
   ],
   "source": [
    "checkSat \"2sat6.txt\""
   ]
  }
 ],
 "metadata": {
  "kernelspec": {
   "display_name": "Haskell",
   "language": "haskell",
   "name": "haskell"
  },
  "language_info": {
   "codemirror_mode": "ihaskell",
   "file_extension": ".hs",
   "name": "haskell",
   "version": "8.0.2"
  }
 },
 "nbformat": 4,
 "nbformat_minor": 2
}
