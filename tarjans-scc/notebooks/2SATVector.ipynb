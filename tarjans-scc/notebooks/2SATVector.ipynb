{
 "cells": [
  {
   "cell_type": "code",
   "execution_count": 1,
   "metadata": {},
   "outputs": [],
   "source": [
    "{-# LANGUAGE LambdaCase #-}\n",
    "\n",
    "import qualified Data.Graph          as G\n",
    "import qualified Data.Array          as A\n",
    "import qualified Data.Vector.Mutable as V\n",
    "\n",
    "import Prelude hiding (lookup)\n",
    "\n",
    "import Data.Traversable (sequenceA)\n",
    "import Control.Monad.ST\n",
    "import Data.STRef\n",
    "import Control.Monad (forM_, when)\n",
    "import Data.Maybe (isNothing, fromJust, isJust)\n",
    "\n",
    "import qualified Data.ByteString as B\n",
    "import qualified Data.ByteString.Char8 as BC\n",
    "\n",
    "denormalise = subtract\n",
    "normalise   = (+)\n",
    "other n v = 2*n - v\n",
    "clauses n [u,v] = [(other n u, v), (other n v, u)]\n",
    "\n",
    "tarjan :: Int -> G.Graph -> [Maybe [Int]]\n",
    "tarjan n graph = runST $ do\n",
    "    index    <- newSTRef (0 :: Int)\n",
    "    stack    <- newSTRef []\n",
    "    stackSet <- V.replicate size False\n",
    "    indices  <- V.replicate size Nothing\n",
    "    lowlinks <- V.replicate size Nothing\n",
    "    output   <- newSTRef []\n",
    "\n",
    "    forM_ (G.vertices graph) $ \\v -> do\n",
    "        vIndex <- flip (V.read) v indices\n",
    "        when (isNothing vIndex) $\n",
    "            strongConnect n v graph index stack stackSet indices lowlinks output\n",
    "\n",
    "    readSTRef output\n",
    "    where\n",
    "        size = snd (A.bounds graph) + 1\n",
    "\n",
    "\n",
    "strongConnect\n",
    "    :: Int\n",
    "    -> Int\n",
    "    -> G.Graph\n",
    "    -> STRef s Int\n",
    "    -> STRef s [Int]\n",
    "    -> V.STVector s Bool\n",
    "    -> V.STVector s (Maybe Int)\n",
    "    -> V.STVector s (Maybe Int)\n",
    "    -> STRef s [Maybe [Int]]\n",
    "    -> ST    s ()\n",
    "strongConnect n v graph index stack stackSet indices lowlinks output = do\n",
    "    i <- readSTRef index\n",
    "    insert v i indices\n",
    "    insert v i lowlinks\n",
    "    increment index\n",
    "    push stack stackSet v\n",
    "\n",
    "    forM_ (graph A.! v) $ \\w -> lookup w indices >>= \\case\n",
    "        Nothing     -> do\n",
    "            strongConnect n w graph index stack stackSet indices lowlinks output\n",
    "            vLowLink <- fromJust <$> lookup v lowlinks\n",
    "            wLowLink <- fromJust <$> lookup w lowlinks\n",
    "            insert v (min vLowLink wLowLink) lowlinks\n",
    "        Just wIndex -> do\n",
    "            wOnStack <- flip (V.read) w stackSet\n",
    "            when wOnStack $ do\n",
    "                vLowLink <- fromJust <$> lookup v lowlinks\n",
    "                insert v (min vLowLink wIndex) lowlinks\n",
    "\n",
    "    vLowLink <- fromJust <$> lookup v lowlinks\n",
    "    vIndex   <- fromJust <$> lookup v indices\n",
    "    when (vLowLink == vIndex) $ do\n",
    "        scc <- addSCC n v (Just []) stack stackSet\n",
    "        modifySTRef' output (scc:)\n",
    "    where\n",
    "        lookup value hashMap     = flip (V.read) value hashMap\n",
    "        insert key value hashMap = V.write hashMap key (Just value)\n",
    "        increment counter        = modifySTRef' counter (+1)\n",
    "\n",
    "addSCC :: Int -> Int -> Maybe [Int] -> STRef s [Int] -> V.STVector s Bool -> ST s (Maybe [Int])\n",
    "addSCC n v (Just scc) stack stackSet = do\n",
    "    w <- pop stack stackSet\n",
    "    if (other n w) `elem` scc\n",
    "        then return Nothing\n",
    "        else\n",
    "            let scc' = Just (w:scc)\n",
    "            in if w == v \n",
    "                then return scc'\n",
    "                else addSCC n v scc' stack stackSet\n",
    "\n",
    "push :: STRef s [Int] -> V.STVector s Bool -> Int -> ST s ()\n",
    "push stack stackSet e = do\n",
    "    modifySTRef' stack    (e:)\n",
    "    V.write stackSet e True\n",
    "\n",
    "pop :: STRef s [Int] -> V.STVector s Bool -> ST s Int\n",
    "pop stack stackSet = do\n",
    "    e <- head <$> readSTRef stack\n",
    "    modifySTRef' stack tail\n",
    "    V.write stackSet e False\n",
    "    return e"
   ]
  },
  {
   "cell_type": "code",
   "execution_count": 2,
   "metadata": {},
   "outputs": [],
   "source": [
    "checkSat name = do\n",
    "    p <- map (map (fst . fromJust . BC.readInt) . BC.words) . BC.lines <$> B.readFile name\n",
    "    let pNo    = head $ head p\n",
    "        pn     = map (map (normalise pNo)) $ tail p\n",
    "        pGraph = G.buildG (0,2*pNo) $ concatMap (clauses pNo) pn\n",
    "    return . isJust . sequenceA $ tarjan pNo pGraph"
   ]
  },
  {
   "cell_type": "code",
   "execution_count": 3,
   "metadata": {},
   "outputs": [
    {
     "data": {
      "text/plain": [
       "True"
      ]
     },
     "metadata": {},
     "output_type": "display_data"
    }
   ],
   "source": [
    "checkSat \"2sat1.txt\""
   ]
  },
  {
   "cell_type": "code",
   "execution_count": 4,
   "metadata": {},
   "outputs": [
    {
     "data": {
      "text/plain": [
       "False"
      ]
     },
     "metadata": {},
     "output_type": "display_data"
    }
   ],
   "source": [
    "checkSat \"2sat2.txt\""
   ]
  },
  {
   "cell_type": "code",
   "execution_count": 5,
   "metadata": {},
   "outputs": [
    {
     "data": {
      "text/plain": [
       "True"
      ]
     },
     "metadata": {},
     "output_type": "display_data"
    }
   ],
   "source": [
    "checkSat \"2sat3.txt\""
   ]
  },
  {
   "cell_type": "code",
   "execution_count": 6,
   "metadata": {},
   "outputs": [
    {
     "data": {
      "text/plain": [
       "True"
      ]
     },
     "metadata": {},
     "output_type": "display_data"
    }
   ],
   "source": [
    "checkSat \"2sat4.txt\""
   ]
  },
  {
   "cell_type": "code",
   "execution_count": 7,
   "metadata": {},
   "outputs": [
    {
     "data": {
      "text/plain": [
       "False"
      ]
     },
     "metadata": {},
     "output_type": "display_data"
    }
   ],
   "source": [
    "checkSat \"2sat5.txt\""
   ]
  },
  {
   "cell_type": "code",
   "execution_count": 8,
   "metadata": {},
   "outputs": [
    {
     "data": {
      "text/plain": [
       "False"
      ]
     },
     "metadata": {},
     "output_type": "display_data"
    }
   ],
   "source": [
    "checkSat \"2sat6.txt\""
   ]
  }
 ],
 "metadata": {
  "kernelspec": {
   "display_name": "Haskell",
   "language": "haskell",
   "name": "haskell"
  },
  "language_info": {
   "codemirror_mode": "ihaskell",
   "file_extension": ".hs",
   "name": "haskell",
   "version": "8.0.2"
  }
 },
 "nbformat": 4,
 "nbformat_minor": 2
}
