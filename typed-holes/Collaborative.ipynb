{
 "cells": [
  {
   "cell_type": "code",
   "execution_count": null,
   "metadata": {
    "collapsed": false,
    "deletable": true,
    "editable": true
   },
   "outputs": [],
   "source": [
    "import Test.QuickCheck\n",
    "\n",
    "id' :: a -> a\n",
    "id' a = _\n",
    "\n",
    "prop_id :: Eq a => a -> Bool\n",
    "prop_id a = (id' a) == (id a)\n",
    "\n",
    "quickCheck prop_id"
   ]
  },
  {
   "cell_type": "code",
   "execution_count": null,
   "metadata": {
    "collapsed": false,
    "deletable": true,
    "editable": true
   },
   "outputs": [],
   "source": [
    "map1 :: (a -> b) -> [a] -> [b]\n",
    "map1 f []     = _\n",
    "map1 f (x:xs) = _\n",
    "\n",
    "prop_map1 :: [Int] -> Bool\n",
    "prop_map1 ls = map1 (+1) ls == map (+1) ls\n",
    "\n",
    "quickCheck prop_map1"
   ]
  },
  {
   "cell_type": "code",
   "execution_count": null,
   "metadata": {
    "collapsed": false,
    "deletable": true,
    "editable": true
   },
   "outputs": [],
   "source": [
    "map2 :: (a -> b) -> [a] -> [b]\n",
    "map2 f ls = _\n",
    "\n",
    "prop_map2 :: [Int] -> Bool\n",
    "prop_map2 ls = map (+1) ls == map2 (+1) ls\n",
    "\n",
    "quickCheck prop_map2"
   ]
  },
  {
   "cell_type": "markdown",
   "metadata": {
    "deletable": true,
    "editable": true
   },
   "source": [
    "\"Conor McBride - What are Types for, or are they only Against?\""
   ]
  }
 ],
 "metadata": {
  "kernelspec": {
   "display_name": "Haskell",
   "language": "haskell",
   "name": "haskell"
  },
  "language_info": {
   "codemirror_mode": "ihaskell",
   "file_extension": ".hs",
   "name": "haskell",
   "version": "8.0.2"
  }
 },
 "nbformat": 4,
 "nbformat_minor": 2
}
